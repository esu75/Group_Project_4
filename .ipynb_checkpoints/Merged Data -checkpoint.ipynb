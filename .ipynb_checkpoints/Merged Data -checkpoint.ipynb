{
 "cells": [
  {
   "cell_type": "markdown",
   "id": "55535d61",
   "metadata": {},
   "source": [
    "As a first step, we need to retrieve geographic locations (Lat/Lon) from the property's address. For this step, Geoapify API is used. Note: Do not try running this as it takes 7 hours to finish. It has been already run once "
   ]
  },
  {
   "cell_type": "code",
   "execution_count": 1,
   "id": "7d17a0ec",
   "metadata": {},
   "outputs": [],
   "source": [
    "\n",
    "# import pandas as pd\n",
    "# import requests\n",
    "# import json"
   ]
  },
  {
   "cell_type": "code",
   "execution_count": 2,
   "id": "edf28cc9",
   "metadata": {},
   "outputs": [],
   "source": [
    "# first_2019 = pd.read_csv(\"Resources/1st_half_2019.csv\")\n",
    "# second_2019 = pd.read_csv(\"Resources/2nd_half_2019.csv\")\n",
    "# first_2020 = pd.read_csv(\"Resources/1st_half_2020.csv\")\n",
    "# second_2020 = pd.read_csv(\"Resources/2nd_half_2020.csv\")\n",
    "# first_2021 = pd.read_csv(\"Resources/1st_half_2021.csv\")\n",
    "# second_2021 = pd.read_csv(\"Resources/2nd_half_2021.csv\")\n",
    "# first_2022 = pd.read_csv(\"Resources/1st_half_2022.csv\")\n",
    "# second_2022 = pd.read_csv(\"Resources/2nd_half_2022.csv\")\n",
    "# first_2023 = pd.read_csv(\"Resources/1st_half_2023.csv\")"
   ]
  },
  {
   "cell_type": "markdown",
   "id": "d2ef6a50",
   "metadata": {},
   "source": [
    "# Concatenate Each Year csv Files Together as Follows:"
   ]
  },
  {
   "cell_type": "code",
   "execution_count": 3,
   "id": "e127a505",
   "metadata": {},
   "outputs": [],
   "source": [
    "# list_2019 = [first_2019, second_2019] \n",
    "# #Concatenate all the dataframes \n",
    "# list_2019_df = pd.concat(list_2019)"
   ]
  },
  {
   "cell_type": "code",
   "execution_count": 4,
   "id": "f1352b55",
   "metadata": {},
   "outputs": [],
   "source": [
    "# list_2020 = [first_2020, second_2020]\n",
    "# #Concatenate all the dataframes \n",
    "# list_2020_df = pd.concat(list_2020)"
   ]
  },
  {
   "cell_type": "code",
   "execution_count": 5,
   "id": "cbef36c6",
   "metadata": {},
   "outputs": [],
   "source": [
    "# list_2021 = [first_2021, second_2021]\n",
    "# list_2021_df = pd.concat(list_2021)"
   ]
  },
  {
   "cell_type": "code",
   "execution_count": 6,
   "id": "d89876d8",
   "metadata": {},
   "outputs": [],
   "source": [
    "# list_2022_2023 = [first_2022, second_2022,first_2023]\n",
    "# list_2022__2023_df = pd.concat(list_2022_2023)"
   ]
  },
  {
   "cell_type": "code",
   "execution_count": 7,
   "id": "75d07829",
   "metadata": {},
   "outputs": [],
   "source": [
    "# #Take the address column out from each table and create a dataframe\n",
    "# updated_address_2019 = list(list_2019_df['Address'].values)\n",
    "# updated_address_2019_df = pd.DataFrame(updated_address_2019, columns = ['address'])"
   ]
  },
  {
   "cell_type": "markdown",
   "id": "51edaf17",
   "metadata": {},
   "source": [
    "# Obtain an API key from the Geoapify website and set the API call as follows"
   ]
  },
  {
   "cell_type": "code",
   "execution_count": 8,
   "id": "e0dbf4f2",
   "metadata": {},
   "outputs": [],
   "source": [
    "# # Define the API parameters\n",
    "# params = {\n",
    "#     \"apiKey\":'508af4b6c8244d419aa1ee2b15088f19',\n",
    "#     \"format\":\"json\"\n",
    "# }\n",
    "\n",
    "# # Set the base URL\n",
    "# base_url = \"https://api.geoapify.com/v1/geocode/search\""
   ]
  },
  {
   "cell_type": "code",
   "execution_count": 9,
   "id": "226ad5d5",
   "metadata": {},
   "outputs": [],
   "source": [
    "# # Loop through the addresses DataFrame and search coordinates for each address\n",
    "# #Note to run each dataframe of addresses, replace address_2019_df with, address_2020_df,or address_2021_df, or address_2019_df \n",
    "\n",
    "\n",
    "# for index, row in address_2019_df.iterrows():\n",
    "\n",
    "# #     Get the address & add \", state, VA and country USA\" to the string so geoapify finds the correct address\n",
    "#     complete_address = row[\"address\"] +\",VA\" +\", USA\"\n",
    "\n",
    "# #     Add the current address to the parameters\n",
    "#     params[\"text\"] = f\"{address}\"\n",
    "\n",
    "#     # Make the API request\n",
    "#     response = requests.get(base_url, params=params)\n",
    "    \n",
    "#     # Convert reponse to JSON\n",
    "#     response = response.json()\n",
    "\n",
    "# #     # Extract latitude and longitude\n",
    "#     updated_address_2019_df.loc[index, \"Lat\"] = response[\"results\"][0][\"lat\"]\n",
    "#     updated_address_2019_df.loc[index, \"Lon\"] = response[\"results\"][0][\"lon\"]\n",
    "    \n",
    "# #     # Log the search results\n",
    "#     print(f\"Coordinates for {address} fetched...\")"
   ]
  },
  {
   "cell_type": "code",
   "execution_count": 10,
   "id": "eedf8bb3",
   "metadata": {},
   "outputs": [],
   "source": [
    "# # Display the address and it corresponding lat and lon values:\n",
    "# updated_address_2019_df"
   ]
  },
  {
   "cell_type": "markdown",
   "id": "25a8c15d",
   "metadata": {},
   "source": [
    "# Importing Required Libraries for visualization after obtaining the lat/lon values.\n",
    "start running the code starting from here"
   ]
  },
  {
   "cell_type": "code",
   "execution_count": 2,
   "id": "68488a1f",
   "metadata": {},
   "outputs": [],
   "source": [
    "# Import dependencies \n",
    "import matplotlib.pyplot as plt\n",
    "import pandas as pd\n",
    "import seaborn as sns\n",
    "import numpy as np\n",
    "import warnings\n",
    "warnings.filterwarnings('ignore')"
   ]
  },
  {
   "cell_type": "code",
   "execution_count": 3,
   "id": "8f65f694",
   "metadata": {},
   "outputs": [],
   "source": [
    "#Read each csv files and create pandas dataframe\n",
    "combined_data_df =pd.read_csv(\"Resources/combined_data.csv\")\n",
    "updated_address_2019_df = pd.read_csv(\"Resources/updated_address_2019.csv\")\n",
    "updated_address_2020_df = pd.read_csv(\"Resources/updated_address_2020.csv\")\n",
    "updated_address_2021_df = pd.read_csv(\"Resources/updated_address_2021.csv\")\n",
    "updated_address_2022_20223 = pd.read_csv(\"Resources/updated_address_2022_20223.csv\")"
   ]
  },
  {
   "cell_type": "code",
   "execution_count": 4,
   "id": "05e59593",
   "metadata": {},
   "outputs": [
    {
     "data": {
      "text/plain": [
       "(30984, 17)"
      ]
     },
     "execution_count": 4,
     "metadata": {},
     "output_type": "execute_result"
    }
   ],
   "source": [
    "# Display the shape of the combined dataframe\n",
    "combined_data_df.shape"
   ]
  },
  {
   "cell_type": "code",
   "execution_count": 5,
   "id": "13505a40",
   "metadata": {},
   "outputs": [
    {
     "data": {
      "text/html": [
       "<div>\n",
       "<style scoped>\n",
       "    .dataframe tbody tr th:only-of-type {\n",
       "        vertical-align: middle;\n",
       "    }\n",
       "\n",
       "    .dataframe tbody tr th {\n",
       "        vertical-align: top;\n",
       "    }\n",
       "\n",
       "    .dataframe thead th {\n",
       "        text-align: right;\n",
       "    }\n",
       "</style>\n",
       "<table border=\"1\" class=\"dataframe\">\n",
       "  <thead>\n",
       "    <tr style=\"text-align: right;\">\n",
       "      <th></th>\n",
       "      <th>MLS #</th>\n",
       "      <th>Cat</th>\n",
       "      <th>Status</th>\n",
       "      <th>Address</th>\n",
       "      <th>City</th>\n",
       "      <th>DOM</th>\n",
       "      <th>Subdivision/Neighborhood</th>\n",
       "      <th>County</th>\n",
       "      <th>Year Built</th>\n",
       "      <th>Beds</th>\n",
       "      <th>Baths</th>\n",
       "      <th>Current Price</th>\n",
       "      <th>DOM/CDOM</th>\n",
       "      <th>RATIO Current Price By SQFT</th>\n",
       "      <th>Structure Type</th>\n",
       "      <th>Status Contractual Search Date</th>\n",
       "      <th>Above Grade Finished SQFT</th>\n",
       "    </tr>\n",
       "  </thead>\n",
       "  <tbody>\n",
       "    <tr>\n",
       "      <th>0</th>\n",
       "      <td>VAFX1157578</td>\n",
       "      <td>RES</td>\n",
       "      <td>CLS</td>\n",
       "      <td>1055 Marmion Dr</td>\n",
       "      <td>Herndon</td>\n",
       "      <td>0</td>\n",
       "      <td>SUMMERHOUSE LANDING</td>\n",
       "      <td>Fairfax, VA</td>\n",
       "      <td>2019.0</td>\n",
       "      <td>4</td>\n",
       "      <td>1-Apr</td>\n",
       "      <td>$1,252,430</td>\n",
       "      <td>0 / 0</td>\n",
       "      <td>281.44</td>\n",
       "      <td>Detached</td>\n",
       "      <td>4/25/2019</td>\n",
       "      <td>4,450</td>\n",
       "    </tr>\n",
       "    <tr>\n",
       "      <th>1</th>\n",
       "      <td>VAFX1150576</td>\n",
       "      <td>RES</td>\n",
       "      <td>CLS</td>\n",
       "      <td>9305 Schubert Ct</td>\n",
       "      <td>Vienna</td>\n",
       "      <td>0</td>\n",
       "      <td>SHOUSE VILLAGE</td>\n",
       "      <td>Fairfax, VA</td>\n",
       "      <td>1969.0</td>\n",
       "      <td>4</td>\n",
       "      <td>1-Mar</td>\n",
       "      <td>$950,000</td>\n",
       "      <td>0 / 0</td>\n",
       "      <td>416.3</td>\n",
       "      <td>Detached</td>\n",
       "      <td>5/22/2019</td>\n",
       "      <td>2,282</td>\n",
       "    </tr>\n",
       "  </tbody>\n",
       "</table>\n",
       "</div>"
      ],
      "text/plain": [
       "         MLS #  Cat Status           Address     City DOM  \\\n",
       "0  VAFX1157578  RES    CLS   1055 Marmion Dr  Herndon   0   \n",
       "1  VAFX1150576  RES    CLS  9305 Schubert Ct   Vienna   0   \n",
       "\n",
       "  Subdivision/Neighborhood       County  Year Built  Beds  Baths  \\\n",
       "0      SUMMERHOUSE LANDING  Fairfax, VA      2019.0     4  1-Apr   \n",
       "1           SHOUSE VILLAGE  Fairfax, VA      1969.0     4  1-Mar   \n",
       "\n",
       "  Current Price DOM/CDOM RATIO Current Price By SQFT Structure Type  \\\n",
       "0   $1,252,430     0 / 0                      281.44       Detached   \n",
       "1     $950,000     0 / 0                       416.3       Detached   \n",
       "\n",
       "  Status Contractual Search Date Above Grade Finished SQFT  \n",
       "0                      4/25/2019                     4,450  \n",
       "1                      5/22/2019                     2,282  "
      ]
     },
     "execution_count": 5,
     "metadata": {},
     "output_type": "execute_result"
    }
   ],
   "source": [
    "combined_data_df.head(2)"
   ]
  },
  {
   "cell_type": "code",
   "execution_count": 6,
   "id": "58df63a5",
   "metadata": {},
   "outputs": [],
   "source": [
    "# Concat all the address tables with the Lat/Lon data to the original data\n",
    "address_df = pd.concat([updated_address_2019_df,updated_address_2020_df, updated_address_2021_df, \n",
    "                        updated_address_2022_20223])"
   ]
  },
  {
   "cell_type": "code",
   "execution_count": 7,
   "id": "57ca5bd9",
   "metadata": {},
   "outputs": [
    {
     "data": {
      "text/html": [
       "<div>\n",
       "<style scoped>\n",
       "    .dataframe tbody tr th:only-of-type {\n",
       "        vertical-align: middle;\n",
       "    }\n",
       "\n",
       "    .dataframe tbody tr th {\n",
       "        vertical-align: top;\n",
       "    }\n",
       "\n",
       "    .dataframe thead th {\n",
       "        text-align: right;\n",
       "    }\n",
       "</style>\n",
       "<table border=\"1\" class=\"dataframe\">\n",
       "  <thead>\n",
       "    <tr style=\"text-align: right;\">\n",
       "      <th></th>\n",
       "      <th>Address</th>\n",
       "      <th>Lat</th>\n",
       "      <th>Lon</th>\n",
       "    </tr>\n",
       "  </thead>\n",
       "  <tbody>\n",
       "    <tr>\n",
       "      <th>0</th>\n",
       "      <td>1055 Marmion Dr</td>\n",
       "      <td>38.890769</td>\n",
       "      <td>-77.348283</td>\n",
       "    </tr>\n",
       "    <tr>\n",
       "      <th>1</th>\n",
       "      <td>9305 Schubert Ct</td>\n",
       "      <td>38.945249</td>\n",
       "      <td>-77.265944</td>\n",
       "    </tr>\n",
       "  </tbody>\n",
       "</table>\n",
       "</div>"
      ],
      "text/plain": [
       "            Address        Lat        Lon\n",
       "0   1055 Marmion Dr  38.890769 -77.348283\n",
       "1  9305 Schubert Ct  38.945249 -77.265944"
      ]
     },
     "execution_count": 7,
     "metadata": {},
     "output_type": "execute_result"
    }
   ],
   "source": [
    "address_df.head(2)"
   ]
  },
  {
   "cell_type": "code",
   "execution_count": 8,
   "id": "00f5e4d4",
   "metadata": {},
   "outputs": [],
   "source": [
    "#Concatenate the address and the original data\n",
    "Merged_df = combined_data_df.merge(address_df, on = 'Address', how = 'outer')"
   ]
  },
  {
   "cell_type": "code",
   "execution_count": 9,
   "id": "08d964ad",
   "metadata": {},
   "outputs": [
    {
     "data": {
      "text/plain": [
       "(34192, 19)"
      ]
     },
     "execution_count": 9,
     "metadata": {},
     "output_type": "execute_result"
    }
   ],
   "source": [
    "Merged_df.shape"
   ]
  },
  {
   "cell_type": "code",
   "execution_count": 10,
   "id": "49972024",
   "metadata": {},
   "outputs": [
    {
     "data": {
      "text/plain": [
       "(30984, 19)"
      ]
     },
     "execution_count": 10,
     "metadata": {},
     "output_type": "execute_result"
    }
   ],
   "source": [
    "#Remove duplicate rows\n",
    "Merged_df = Merged_df.drop_duplicates()\n",
    "Merged_df.shape"
   ]
  },
  {
   "cell_type": "code",
   "execution_count": 11,
   "id": "c3ff18e1",
   "metadata": {},
   "outputs": [
    {
     "data": {
      "text/html": [
       "<div>\n",
       "<style scoped>\n",
       "    .dataframe tbody tr th:only-of-type {\n",
       "        vertical-align: middle;\n",
       "    }\n",
       "\n",
       "    .dataframe tbody tr th {\n",
       "        vertical-align: top;\n",
       "    }\n",
       "\n",
       "    .dataframe thead th {\n",
       "        text-align: right;\n",
       "    }\n",
       "</style>\n",
       "<table border=\"1\" class=\"dataframe\">\n",
       "  <thead>\n",
       "    <tr style=\"text-align: right;\">\n",
       "      <th></th>\n",
       "      <th>MLS #</th>\n",
       "      <th>Cat</th>\n",
       "      <th>Status</th>\n",
       "      <th>Address</th>\n",
       "      <th>City</th>\n",
       "      <th>DOM</th>\n",
       "      <th>Subdivision/Neighborhood</th>\n",
       "      <th>County</th>\n",
       "      <th>Year Built</th>\n",
       "      <th>Beds</th>\n",
       "      <th>Baths</th>\n",
       "      <th>Current Price</th>\n",
       "      <th>DOM/CDOM</th>\n",
       "      <th>RATIO Current Price By SQFT</th>\n",
       "      <th>Structure Type</th>\n",
       "      <th>Status Contractual Search Date</th>\n",
       "      <th>Above Grade Finished SQFT</th>\n",
       "      <th>Lat</th>\n",
       "      <th>Lon</th>\n",
       "    </tr>\n",
       "  </thead>\n",
       "  <tbody>\n",
       "    <tr>\n",
       "      <th>0</th>\n",
       "      <td>VAFX1157578</td>\n",
       "      <td>RES</td>\n",
       "      <td>CLS</td>\n",
       "      <td>1055 Marmion Dr</td>\n",
       "      <td>Herndon</td>\n",
       "      <td>0</td>\n",
       "      <td>SUMMERHOUSE LANDING</td>\n",
       "      <td>Fairfax, VA</td>\n",
       "      <td>2019.0</td>\n",
       "      <td>4</td>\n",
       "      <td>1-Apr</td>\n",
       "      <td>$1,252,430</td>\n",
       "      <td>0 / 0</td>\n",
       "      <td>281.44</td>\n",
       "      <td>Detached</td>\n",
       "      <td>4/25/2019</td>\n",
       "      <td>4,450</td>\n",
       "      <td>38.890769</td>\n",
       "      <td>-77.348283</td>\n",
       "    </tr>\n",
       "    <tr>\n",
       "      <th>1</th>\n",
       "      <td>VAFX1150576</td>\n",
       "      <td>RES</td>\n",
       "      <td>CLS</td>\n",
       "      <td>9305 Schubert Ct</td>\n",
       "      <td>Vienna</td>\n",
       "      <td>0</td>\n",
       "      <td>SHOUSE VILLAGE</td>\n",
       "      <td>Fairfax, VA</td>\n",
       "      <td>1969.0</td>\n",
       "      <td>4</td>\n",
       "      <td>1-Mar</td>\n",
       "      <td>$950,000</td>\n",
       "      <td>0 / 0</td>\n",
       "      <td>416.3</td>\n",
       "      <td>Detached</td>\n",
       "      <td>5/22/2019</td>\n",
       "      <td>2,282</td>\n",
       "      <td>38.945249</td>\n",
       "      <td>-77.265944</td>\n",
       "    </tr>\n",
       "  </tbody>\n",
       "</table>\n",
       "</div>"
      ],
      "text/plain": [
       "         MLS #  Cat Status           Address     City DOM  \\\n",
       "0  VAFX1157578  RES    CLS   1055 Marmion Dr  Herndon   0   \n",
       "1  VAFX1150576  RES    CLS  9305 Schubert Ct   Vienna   0   \n",
       "\n",
       "  Subdivision/Neighborhood       County  Year Built  Beds  Baths  \\\n",
       "0      SUMMERHOUSE LANDING  Fairfax, VA      2019.0     4  1-Apr   \n",
       "1           SHOUSE VILLAGE  Fairfax, VA      1969.0     4  1-Mar   \n",
       "\n",
       "  Current Price DOM/CDOM RATIO Current Price By SQFT Structure Type  \\\n",
       "0   $1,252,430     0 / 0                      281.44       Detached   \n",
       "1     $950,000     0 / 0                       416.3       Detached   \n",
       "\n",
       "  Status Contractual Search Date Above Grade Finished SQFT        Lat  \\\n",
       "0                      4/25/2019                     4,450  38.890769   \n",
       "1                      5/22/2019                     2,282  38.945249   \n",
       "\n",
       "         Lon  \n",
       "0 -77.348283  \n",
       "1 -77.265944  "
      ]
     },
     "execution_count": 11,
     "metadata": {},
     "output_type": "execute_result"
    }
   ],
   "source": [
    "Merged_df.head(2)"
   ]
  },
  {
   "cell_type": "code",
   "execution_count": 12,
   "id": "ea4e4247",
   "metadata": {},
   "outputs": [
    {
     "name": "stdout",
     "output_type": "stream",
     "text": [
      "<class 'pandas.core.frame.DataFrame'>\n",
      "Int64Index: 30984 entries, 0 to 34191\n",
      "Data columns (total 19 columns):\n",
      " #   Column                          Non-Null Count  Dtype  \n",
      "---  ------                          --------------  -----  \n",
      " 0   MLS #                           30984 non-null  object \n",
      " 1   Cat                             30984 non-null  object \n",
      " 2   Status                          30984 non-null  object \n",
      " 3   Address                         30984 non-null  object \n",
      " 4   City                            30984 non-null  object \n",
      " 5   DOM                             30984 non-null  object \n",
      " 6   Subdivision/Neighborhood        30983 non-null  object \n",
      " 7   County                          30984 non-null  object \n",
      " 8   Year Built                      30977 non-null  float64\n",
      " 9   Beds                            30984 non-null  int64  \n",
      " 10  Baths                           30963 non-null  object \n",
      " 11  Current Price                   30984 non-null  object \n",
      " 12  DOM/CDOM                        30984 non-null  object \n",
      " 13  RATIO Current Price By SQFT     30914 non-null  object \n",
      " 14  Structure Type                  30984 non-null  object \n",
      " 15  Status Contractual Search Date  30984 non-null  object \n",
      " 16  Above Grade Finished SQFT       30984 non-null  object \n",
      " 17  Lat                             30984 non-null  float64\n",
      " 18  Lon                             30984 non-null  float64\n",
      "dtypes: float64(3), int64(1), object(15)\n",
      "memory usage: 4.7+ MB\n"
     ]
    }
   ],
   "source": [
    "Merged_df.info()"
   ]
  },
  {
   "cell_type": "markdown",
   "id": "4703ae56",
   "metadata": {},
   "source": [
    "# Split the year and the month from Status Contractual Search Date column"
   ]
  },
  {
   "cell_type": "code",
   "execution_count": 13,
   "id": "152349a0",
   "metadata": {},
   "outputs": [
    {
     "data": {
      "text/plain": [
       "0       2019-04-25\n",
       "1       2019-05-22\n",
       "3       2021-04-16\n",
       "5       2019-06-20\n",
       "6       2019-06-27\n",
       "           ...    \n",
       "34187   2023-04-13\n",
       "34188   2023-04-21\n",
       "34189   2023-01-04\n",
       "34190   2023-02-17\n",
       "34191   2023-04-19\n",
       "Name: Status Contractual Search Date, Length: 30984, dtype: datetime64[ns]"
      ]
     },
     "execution_count": 13,
     "metadata": {},
     "output_type": "execute_result"
    }
   ],
   "source": [
    "# convert the object datatype to datatime\n",
    "Merged_df['Status Contractual Search Date'] = pd.to_datetime(Merged_df['Status Contractual Search Date'])\n",
    "Merged_df['Status Contractual Search Date']"
   ]
  },
  {
   "cell_type": "code",
   "execution_count": 14,
   "id": "f6f18bac",
   "metadata": {},
   "outputs": [
    {
     "data": {
      "text/plain": [
       "0    2019\n",
       "1    2019\n",
       "3    2021\n",
       "5    2019\n",
       "6    2019\n",
       "Name: year, dtype: int64"
      ]
     },
     "execution_count": 14,
     "metadata": {},
     "output_type": "execute_result"
    }
   ],
   "source": [
    "# Split the year \n",
    "Merged_df['year'] = pd.to_datetime(Merged_df['Status Contractual Search Date']).dt.year\n",
    "Merged_df['year'].head()"
   ]
  },
  {
   "cell_type": "code",
   "execution_count": 15,
   "id": "9601faae",
   "metadata": {},
   "outputs": [
    {
     "data": {
      "text/plain": [
       "0    4\n",
       "1    5\n",
       "3    4\n",
       "5    6\n",
       "6    6\n",
       "Name: month, dtype: int64"
      ]
     },
     "execution_count": 15,
     "metadata": {},
     "output_type": "execute_result"
    }
   ],
   "source": [
    "#Split the month\n",
    "Merged_df['month'] =pd.to_datetime(Merged_df['Status Contractual Search Date']).dt.month\n",
    "Merged_df['month'].head()"
   ]
  },
  {
   "cell_type": "markdown",
   "id": "16b1e683",
   "metadata": {},
   "source": [
    "# Convert the datatypes for other columns"
   ]
  },
  {
   "cell_type": "code",
   "execution_count": 16,
   "id": "d88a4f82",
   "metadata": {},
   "outputs": [
    {
     "data": {
      "text/plain": [
       "0        281.44\n",
       "1         416.3\n",
       "3        468.89\n",
       "5        457.58\n",
       "6        353.74\n",
       "          ...  \n",
       "34187    388.51\n",
       "34188    520.91\n",
       "34189    400.14\n",
       "34190    648.47\n",
       "34191    779.67\n",
       "Name: RATIO Current Price By SQFT, Length: 30984, dtype: object"
      ]
     },
     "execution_count": 16,
     "metadata": {},
     "output_type": "execute_result"
    }
   ],
   "source": [
    "Merged_df['RATIO Current Price By SQFT']"
   ]
  },
  {
   "cell_type": "code",
   "execution_count": 17,
   "id": "80608d05",
   "metadata": {},
   "outputs": [
    {
     "data": {
      "text/plain": [
       "0    281.44\n",
       "1    416.30\n",
       "3    468.89\n",
       "5    457.58\n",
       "6    353.74\n",
       "Name: RATIO Current Price By SQFT, dtype: float64"
      ]
     },
     "execution_count": 17,
     "metadata": {},
     "output_type": "execute_result"
    }
   ],
   "source": [
    "#Convert from object to float the RATIO Current Price By SQFT column\n",
    "Merged_df['RATIO Current Price By SQFT'] = Merged_df['RATIO Current Price By SQFT'].str.replace(',', '').astype(float)\n",
    "Merged_df['RATIO Current Price By SQFT'].head()"
   ]
  },
  {
   "cell_type": "code",
   "execution_count": 18,
   "id": "3a86a3bf",
   "metadata": {},
   "outputs": [
    {
     "data": {
      "text/plain": [
       "0    4450.0\n",
       "1    2282.0\n",
       "3    2282.0\n",
       "5    1497.0\n",
       "6    2732.0\n",
       "Name: Above Grade Finished SQFT, dtype: float64"
      ]
     },
     "execution_count": 18,
     "metadata": {},
     "output_type": "execute_result"
    }
   ],
   "source": [
    "# Convert from object to float the Above Grade Finished SQFT column\n",
    "\n",
    "Merged_df['Above Grade Finished SQFT'] = Merged_df['Above Grade Finished SQFT'].str.replace(',', '').astype(float)\n",
    "Merged_df['Above Grade Finished SQFT'].head()"
   ]
  },
  {
   "cell_type": "code",
   "execution_count": 19,
   "id": "6e4f493b",
   "metadata": {},
   "outputs": [
    {
     "data": {
      "text/plain": [
       "0    1252430.0\n",
       "1     950000.0\n",
       "3    1070000.0\n",
       "5     685000.0\n",
       "6     966410.0\n",
       "Name: Current Price, dtype: float64"
      ]
     },
     "execution_count": 19,
     "metadata": {},
     "output_type": "execute_result"
    }
   ],
   "source": [
    "# Convert from object to float the 'Current Price' column\n",
    "Merged_df['Current Price'] = Merged_df['Current Price'].str.replace('$', '').str.replace(',','').astype(float)\n",
    "Merged_df['Current Price'].head()"
   ]
  },
  {
   "cell_type": "code",
   "execution_count": 20,
   "id": "971acd51",
   "metadata": {},
   "outputs": [],
   "source": [
    "# Rename columns\n",
    "Fairfax_home_sale_df = Merged_df.rename(columns={'Status Contractual Search Date': \"Date_Closed\",  \n",
    "                          'Current Price':'Sold_Price', 'RATIO Current Price By SQFT': 'Cost_per_sqft',\"Beds\":'Bedrooms', \n",
    "                          'Above Grade Finished SQFT': 'Above_Grade_Finished_sqft', 'Year Built':'Year_Built'})"
   ]
  },
  {
   "cell_type": "code",
   "execution_count": 21,
   "id": "115ee75d",
   "metadata": {},
   "outputs": [
    {
     "data": {
      "text/plain": [
       "(30984, 21)"
      ]
     },
     "execution_count": 21,
     "metadata": {},
     "output_type": "execute_result"
    }
   ],
   "source": [
    "# Preview the df\n",
    "Fairfax_home_sale_df.shape"
   ]
  },
  {
   "cell_type": "code",
   "execution_count": 22,
   "id": "b80d4354",
   "metadata": {},
   "outputs": [],
   "source": [
    "# Reorganizing half bath and full bath order. This data is structured in such a way that the numbers \n",
    "# on the left side of the dash indicate number of half baths, whereas the month's names indicate the number \n",
    "# of full baths that particular house has.\n",
    "\n",
    "Fairfax_home_sale_df['Baths_cleaned']= Fairfax_home_sale_df['Baths'].str.replace(\"Mar-00\",\"0-3\")\n",
    "Fairfax_home_sale_df['Baths_cleaned']= Fairfax_home_sale_df['Baths_cleaned'].str.replace(\"Feb-00\",\"0-2\")\n",
    "Fairfax_home_sale_df['Baths_cleaned']= Fairfax_home_sale_df['Baths_cleaned'].str.replace(\"Apr-00\",\"0-4\")\n",
    "Fairfax_home_sale_df['Baths_cleaned']= Fairfax_home_sale_df['Baths_cleaned'].str.replace(\"Jan-00\",\"0-1\")\n",
    "Fairfax_home_sale_df['Baths_cleaned']= Fairfax_home_sale_df['Baths_cleaned'].str.replace(\"May-00\",\"0-5\")\n",
    "Fairfax_home_sale_df['Baths_cleaned']= Fairfax_home_sale_df['Baths_cleaned'].str.replace(\"Jun-00\",\"0-6\")\n",
    "Fairfax_home_sale_df['Baths_cleaned']= Fairfax_home_sale_df['Baths_cleaned'].str.replace(\"Jul-00\",\"0-7\")\n",
    "Fairfax_home_sale_df['Baths_cleaned']= Fairfax_home_sale_df['Baths_cleaned'].str.replace(\"/1\",\"1-1\")\n",
    "Fairfax_home_sale_df['Baths_cleaned']= Fairfax_home_sale_df['Baths_cleaned'].str.replace(\"/0\",\"0-0\")\n",
    "Fairfax_home_sale_df['Baths_cleaned']= Fairfax_home_sale_df['Baths_cleaned'].str.replace(\"/2\",\"0-1\")\n",
    "Fairfax_home_sale_df['Baths_cleaned']= Fairfax_home_sale_df['Baths_cleaned'].str.replace(\"/3\",\"1-1\")\n",
    "Fairfax_home_sale_df['Baths_cleaned']= Fairfax_home_sale_df['Baths_cleaned'].str.replace(\"1\",\"0-1\")\n",
    "Fairfax_home_sale_df['Baths_cleaned']= Fairfax_home_sale_df['Baths_cleaned'].str.replace(\"2\",\"0-2\")\n",
    "Fairfax_home_sale_df['Baths_cleaned']= Fairfax_home_sale_df['Baths_cleaned'].str.replace(\"3\",\"0-3\")\n",
    "Fairfax_home_sale_df['Baths_cleaned']= Fairfax_home_sale_df['Baths_cleaned'].str.replace(\"4\",\"0-4\")\n",
    "Fairfax_home_sale_df['Baths_cleaned']= Fairfax_home_sale_df['Baths_cleaned'].str.replace(\"5\",\"0-5\")\n",
    "Fairfax_home_sale_df['Baths_cleaned']= Fairfax_home_sale_df['Baths_cleaned'].str.replace(\"6\",\"0-6\")\n",
    "Fairfax_home_sale_df['Baths_cleaned']= Fairfax_home_sale_df['Baths_cleaned'].str.replace(\"7\",\"0-7\")\n",
    "Fairfax_home_sale_df['Baths_cleaned']= Fairfax_home_sale_df['Baths_cleaned'].str.replace(\"8\",\"0-8\")\n",
    "Fairfax_home_sale_df['Baths_cleaned']= Fairfax_home_sale_df['Baths_cleaned'].str.replace(\"9\",\"0-9\")\n",
    "Fairfax_home_sale_df['Baths_cleaned']= Fairfax_home_sale_df['Baths_cleaned'].str.replace(\"0-1-Apr\",\"1-4\")\n",
    "Fairfax_home_sale_df['Baths_cleaned']= Fairfax_home_sale_df['Baths_cleaned'].str.replace(\"0-1-Mar\",\"1-3\")\n",
    "Fairfax_home_sale_df['Baths_cleaned']= Fairfax_home_sale_df['Baths_cleaned'].str.replace(\"0-1-Feb\",\"1-2\")\n",
    "Fairfax_home_sale_df['Baths_cleaned']= Fairfax_home_sale_df['Baths_cleaned'].str.replace(\"0-1-Jun\",\"1-6\")\n",
    "Fairfax_home_sale_df['Baths_cleaned']= Fairfax_home_sale_df['Baths_cleaned'].str.replace(\"0-1-Jul\",\"1-7\")\n",
    "Fairfax_home_sale_df['Baths_cleaned']= Fairfax_home_sale_df['Baths_cleaned'].str.replace(\"0-1-May\",\"1-5\")\n",
    "Fairfax_home_sale_df['Baths_cleaned']= Fairfax_home_sale_df['Baths_cleaned'].str.replace('0-1-Jan',\"1-1\")\n",
    "Fairfax_home_sale_df['Baths_cleaned']= Fairfax_home_sale_df['Baths_cleaned'].str.replace('0-1-Aug',\"1-8\")\n",
    "Fairfax_home_sale_df['Baths_cleaned']= Fairfax_home_sale_df['Baths_cleaned'].str.replace('0-1-Sep',\"1-9\")\n",
    "Fairfax_home_sale_df['Baths_cleaned']= Fairfax_home_sale_df['Baths_cleaned'].str.replace('0-1-Oct',\"1-10\")\n",
    "Fairfax_home_sale_df['Baths_cleaned']= Fairfax_home_sale_df['Baths_cleaned'].str.replace('0-2-Mar',\"2-3\")\n",
    "Fairfax_home_sale_df['Baths_cleaned']= Fairfax_home_sale_df['Baths_cleaned'].str.replace('0-2-Feb',\"2-2\")\n",
    "Fairfax_home_sale_df['Baths_cleaned']= Fairfax_home_sale_df['Baths_cleaned'].str.replace('0-2-Jun',\"2-6\")\n",
    "Fairfax_home_sale_df['Baths_cleaned']= Fairfax_home_sale_df['Baths_cleaned'].str.replace('0-2-Apr',\"2-4\")\n",
    "Fairfax_home_sale_df['Baths_cleaned']= Fairfax_home_sale_df['Baths_cleaned'].str.replace('0-2-May',\"2-5\")\n",
    "Fairfax_home_sale_df['Baths_cleaned']= Fairfax_home_sale_df['Baths_cleaned'].str.replace('0-2-Jan',\"2-1\")\n",
    "Fairfax_home_sale_df['Baths_cleaned']= Fairfax_home_sale_df['Baths_cleaned'].str.replace('0-2-Aug',\"2-8\")\n",
    "Fairfax_home_sale_df['Baths_cleaned']= Fairfax_home_sale_df['Baths_cleaned'].str.replace('0-2-Jul',\"2-7\")\n",
    "Fairfax_home_sale_df['Baths_cleaned']= Fairfax_home_sale_df['Baths_cleaned'].str.replace('0-2-Oct',\"2-10\")\n",
    "Fairfax_home_sale_df['Baths_cleaned']= Fairfax_home_sale_df['Baths_cleaned'].str.replace('0-2-Sep',\"2-9\")\n",
    "Fairfax_home_sale_df['Baths_cleaned']= Fairfax_home_sale_df['Baths_cleaned'].str.replace('0-3-Jun',\"3-6\")\n",
    "Fairfax_home_sale_df['Baths_cleaned']= Fairfax_home_sale_df['Baths_cleaned'].str.replace('0-3-May',\"3-5\")\n",
    "Fairfax_home_sale_df['Baths_cleaned']= Fairfax_home_sale_df['Baths_cleaned'].str.replace('0-3-Aug',\"3-8\")\n",
    "Fairfax_home_sale_df['Baths_cleaned']= Fairfax_home_sale_df['Baths_cleaned'].str.replace('0-3-Jan',\"3-1\")\n",
    "Fairfax_home_sale_df['Baths_cleaned']= Fairfax_home_sale_df['Baths_cleaned'].str.replace('0-3-Apr',\"3-4\")\n",
    "Fairfax_home_sale_df['Baths_cleaned']= Fairfax_home_sale_df['Baths_cleaned'].str.replace('0-3-Jul',\"3-7\")\n",
    "Fairfax_home_sale_df['Baths_cleaned']= Fairfax_home_sale_df['Baths_cleaned'].str.replace('0-3-Mar',\"3-3\")\n",
    "Fairfax_home_sale_df['Baths_cleaned']= Fairfax_home_sale_df['Baths_cleaned'].str.replace('0-3-Sep',\"3-9\")\n",
    "Fairfax_home_sale_df['Baths_cleaned']= Fairfax_home_sale_df['Baths_cleaned'].str.replace('0-3-Feb',\"3-2\")\n",
    "Fairfax_home_sale_df['Baths_cleaned']= Fairfax_home_sale_df['Baths_cleaned'].str.replace('0-3-Oct',\"3-2\")\n",
    "Fairfax_home_sale_df['Baths_cleaned']= Fairfax_home_sale_df['Baths_cleaned'].str.replace('0-4-May',\"4-5\")\n",
    "Fairfax_home_sale_df['Baths_cleaned']= Fairfax_home_sale_df['Baths_cleaned'].str.replace('0-4-Jul',\"4-7\")\n",
    "Fairfax_home_sale_df['Baths_cleaned']= Fairfax_home_sale_df['Baths_cleaned'].str.replace('0-4-Oct',\"4-10\")\n",
    "Fairfax_home_sale_df['Baths_cleaned']= Fairfax_home_sale_df['Baths_cleaned'].str.replace('0-4-Jan',\"4-1\")\n",
    "Fairfax_home_sale_df['Baths_cleaned']= Fairfax_home_sale_df['Baths_cleaned'].str.replace('0-4-Sep',\"4-9\")\n",
    "Fairfax_home_sale_df['Baths_cleaned']= Fairfax_home_sale_df['Baths_cleaned'].str.replace('0-4-Jun',\"4-6\")\n",
    "Fairfax_home_sale_df['Baths_cleaned']= Fairfax_home_sale_df['Baths_cleaned'].str.replace('0-5-Sep',\"5-9\")\n",
    "Fairfax_home_sale_df['Baths_cleaned']= Fairfax_home_sale_df['Baths_cleaned'].str.replace('0-5-Feb',\"5-2\")\n",
    "Fairfax_home_sale_df['Baths_cleaned']= Fairfax_home_sale_df['Baths_cleaned'].str.replace('0-5-Aug',\"5-8\")\n",
    "Fairfax_home_sale_df['Baths_cleaned']= Fairfax_home_sale_df['Baths_cleaned'].str.replace('0-0-3',\"0-3\")\n",
    "Fairfax_home_sale_df['Baths_cleaned']= Fairfax_home_sale_df['Baths_cleaned'].str.replace('0-0-2',\"0-2\")\n",
    "Fairfax_home_sale_df['Baths_cleaned']= Fairfax_home_sale_df['Baths_cleaned'].str.replace('0-0-4',\"0-4\")\n",
    "Fairfax_home_sale_df['Baths_cleaned']= Fairfax_home_sale_df['Baths_cleaned'].str.replace('0-0-1',\"0-1\")\n",
    "Fairfax_home_sale_df['Baths_cleaned']= Fairfax_home_sale_df['Baths_cleaned'].str.replace('0-0-5',\"0-5\")\n",
    "Fairfax_home_sale_df['Baths_cleaned']= Fairfax_home_sale_df['Baths_cleaned'].str.replace('0-0-6',\"0-6\")\n",
    "Fairfax_home_sale_df['Baths_cleaned']= Fairfax_home_sale_df['Baths_cleaned'].str.replace('0-0-7',\"0-7\")\n",
    "Fairfax_home_sale_df['Baths_cleaned']=Fairfax_home_sale_df['Baths_cleaned'].str.replace('0-6-Jul',\"6-7\")\n",
    "Fairfax_home_sale_df['Baths_cleaned']= Fairfax_home_sale_df['Baths_cleaned'].str.replace('0-1-0-1',\"0-1\")"
   ]
  },
  {
   "cell_type": "code",
   "execution_count": 23,
   "id": "f145b5b4",
   "metadata": {},
   "outputs": [],
   "source": [
    "# After formating the rows for the full and half baths, split the half bath from the full bath\n",
    "Fairfax_home_sale_df[['half_bath', 'full_bath']] = Fairfax_home_sale_df['Baths_cleaned'].str.split(pat=\"-\",\\\n",
    "                                                                                                   n=1, expand=True)"
   ]
  },
  {
   "cell_type": "code",
   "execution_count": 24,
   "id": "1a53112f",
   "metadata": {},
   "outputs": [
    {
     "data": {
      "text/plain": [
       "MLS #                         0\n",
       "Cat                           0\n",
       "Status                        0\n",
       "Address                       0\n",
       "City                          0\n",
       "DOM                           0\n",
       "Subdivision/Neighborhood      1\n",
       "County                        0\n",
       "Year_Built                    7\n",
       "Bedrooms                      0\n",
       "Baths                        21\n",
       "Sold_Price                    0\n",
       "DOM/CDOM                      0\n",
       "Cost_per_sqft                70\n",
       "Structure Type                0\n",
       "Date_Closed                   0\n",
       "Above_Grade_Finished_sqft     0\n",
       "Lat                           0\n",
       "Lon                           0\n",
       "year                          0\n",
       "month                         0\n",
       "Baths_cleaned                21\n",
       "half_bath                    21\n",
       "full_bath                    21\n",
       "dtype: int64"
      ]
     },
     "execution_count": 24,
     "metadata": {},
     "output_type": "execute_result"
    }
   ],
   "source": [
    "# check for any null values\n",
    "Fairfax_home_sale_df.isnull().sum()"
   ]
  },
  {
   "cell_type": "code",
   "execution_count": 25,
   "id": "90185df4",
   "metadata": {
    "scrolled": true
   },
   "outputs": [
    {
     "data": {
      "text/html": [
       "<div>\n",
       "<style scoped>\n",
       "    .dataframe tbody tr th:only-of-type {\n",
       "        vertical-align: middle;\n",
       "    }\n",
       "\n",
       "    .dataframe tbody tr th {\n",
       "        vertical-align: top;\n",
       "    }\n",
       "\n",
       "    .dataframe thead th {\n",
       "        text-align: right;\n",
       "    }\n",
       "</style>\n",
       "<table border=\"1\" class=\"dataframe\">\n",
       "  <thead>\n",
       "    <tr style=\"text-align: right;\">\n",
       "      <th></th>\n",
       "      <th>MLS #</th>\n",
       "      <th>Cat</th>\n",
       "      <th>Status</th>\n",
       "      <th>Address</th>\n",
       "      <th>City</th>\n",
       "      <th>DOM</th>\n",
       "      <th>Subdivision/Neighborhood</th>\n",
       "      <th>County</th>\n",
       "      <th>Year_Built</th>\n",
       "      <th>Bedrooms</th>\n",
       "      <th>...</th>\n",
       "      <th>Structure Type</th>\n",
       "      <th>Date_Closed</th>\n",
       "      <th>Above_Grade_Finished_sqft</th>\n",
       "      <th>Lat</th>\n",
       "      <th>Lon</th>\n",
       "      <th>year</th>\n",
       "      <th>month</th>\n",
       "      <th>Baths_cleaned</th>\n",
       "      <th>half_bath</th>\n",
       "      <th>full_bath</th>\n",
       "    </tr>\n",
       "  </thead>\n",
       "  <tbody>\n",
       "    <tr>\n",
       "      <th>0</th>\n",
       "      <td>VAFX1157578</td>\n",
       "      <td>RES</td>\n",
       "      <td>CLS</td>\n",
       "      <td>1055 Marmion Dr</td>\n",
       "      <td>Herndon</td>\n",
       "      <td>0</td>\n",
       "      <td>SUMMERHOUSE LANDING</td>\n",
       "      <td>Fairfax, VA</td>\n",
       "      <td>2019.0</td>\n",
       "      <td>4</td>\n",
       "      <td>...</td>\n",
       "      <td>Detached</td>\n",
       "      <td>2019-04-25</td>\n",
       "      <td>4450.0</td>\n",
       "      <td>38.890769</td>\n",
       "      <td>-77.348283</td>\n",
       "      <td>2019</td>\n",
       "      <td>4</td>\n",
       "      <td>1-4</td>\n",
       "      <td>1</td>\n",
       "      <td>4</td>\n",
       "    </tr>\n",
       "    <tr>\n",
       "      <th>1</th>\n",
       "      <td>VAFX1150576</td>\n",
       "      <td>RES</td>\n",
       "      <td>CLS</td>\n",
       "      <td>9305 Schubert Ct</td>\n",
       "      <td>Vienna</td>\n",
       "      <td>0</td>\n",
       "      <td>SHOUSE VILLAGE</td>\n",
       "      <td>Fairfax, VA</td>\n",
       "      <td>1969.0</td>\n",
       "      <td>4</td>\n",
       "      <td>...</td>\n",
       "      <td>Detached</td>\n",
       "      <td>2019-05-22</td>\n",
       "      <td>2282.0</td>\n",
       "      <td>38.945249</td>\n",
       "      <td>-77.265944</td>\n",
       "      <td>2019</td>\n",
       "      <td>5</td>\n",
       "      <td>1-3</td>\n",
       "      <td>1</td>\n",
       "      <td>3</td>\n",
       "    </tr>\n",
       "    <tr>\n",
       "      <th>3</th>\n",
       "      <td>VAFX1193082</td>\n",
       "      <td>RES</td>\n",
       "      <td>CLS</td>\n",
       "      <td>9305 Schubert Ct</td>\n",
       "      <td>Vienna</td>\n",
       "      <td>1</td>\n",
       "      <td>SHOUSE VILLAGE</td>\n",
       "      <td>Fairfax, VA</td>\n",
       "      <td>1969.0</td>\n",
       "      <td>5</td>\n",
       "      <td>...</td>\n",
       "      <td>Detached</td>\n",
       "      <td>2021-04-16</td>\n",
       "      <td>2282.0</td>\n",
       "      <td>38.945249</td>\n",
       "      <td>-77.265944</td>\n",
       "      <td>2021</td>\n",
       "      <td>4</td>\n",
       "      <td>1-3</td>\n",
       "      <td>1</td>\n",
       "      <td>3</td>\n",
       "    </tr>\n",
       "    <tr>\n",
       "      <th>5</th>\n",
       "      <td>VAFX1120020</td>\n",
       "      <td>RES</td>\n",
       "      <td>CLS</td>\n",
       "      <td>8001 Leyton Pl</td>\n",
       "      <td>Springfield</td>\n",
       "      <td>0</td>\n",
       "      <td>CARDINAL FOREST</td>\n",
       "      <td>Fairfax, VA</td>\n",
       "      <td>1967.0</td>\n",
       "      <td>5</td>\n",
       "      <td>...</td>\n",
       "      <td>Detached</td>\n",
       "      <td>2019-06-20</td>\n",
       "      <td>1497.0</td>\n",
       "      <td>38.788632</td>\n",
       "      <td>-77.221291</td>\n",
       "      <td>2019</td>\n",
       "      <td>6</td>\n",
       "      <td>0-3</td>\n",
       "      <td>0</td>\n",
       "      <td>3</td>\n",
       "    </tr>\n",
       "    <tr>\n",
       "      <th>6</th>\n",
       "      <td>VAFX1112928</td>\n",
       "      <td>RES</td>\n",
       "      <td>CLS</td>\n",
       "      <td>5023 Rose Hill Farm Dr</td>\n",
       "      <td>Alexandria</td>\n",
       "      <td>0</td>\n",
       "      <td>ROSE HILL FARMS</td>\n",
       "      <td>Fairfax, VA</td>\n",
       "      <td>2019.0</td>\n",
       "      <td>5</td>\n",
       "      <td>...</td>\n",
       "      <td>Detached</td>\n",
       "      <td>2019-06-27</td>\n",
       "      <td>2732.0</td>\n",
       "      <td>38.890769</td>\n",
       "      <td>-77.348283</td>\n",
       "      <td>2019</td>\n",
       "      <td>6</td>\n",
       "      <td>0-4</td>\n",
       "      <td>0</td>\n",
       "      <td>4</td>\n",
       "    </tr>\n",
       "  </tbody>\n",
       "</table>\n",
       "<p>5 rows × 24 columns</p>\n",
       "</div>"
      ],
      "text/plain": [
       "         MLS #  Cat Status                 Address         City DOM  \\\n",
       "0  VAFX1157578  RES    CLS         1055 Marmion Dr      Herndon   0   \n",
       "1  VAFX1150576  RES    CLS        9305 Schubert Ct       Vienna   0   \n",
       "3  VAFX1193082  RES    CLS        9305 Schubert Ct       Vienna   1   \n",
       "5  VAFX1120020  RES    CLS          8001 Leyton Pl  Springfield   0   \n",
       "6  VAFX1112928  RES    CLS  5023 Rose Hill Farm Dr   Alexandria   0   \n",
       "\n",
       "  Subdivision/Neighborhood       County  Year_Built  Bedrooms  ...  \\\n",
       "0      SUMMERHOUSE LANDING  Fairfax, VA      2019.0         4  ...   \n",
       "1           SHOUSE VILLAGE  Fairfax, VA      1969.0         4  ...   \n",
       "3           SHOUSE VILLAGE  Fairfax, VA      1969.0         5  ...   \n",
       "5          CARDINAL FOREST  Fairfax, VA      1967.0         5  ...   \n",
       "6          ROSE HILL FARMS  Fairfax, VA      2019.0         5  ...   \n",
       "\n",
       "  Structure Type  Date_Closed Above_Grade_Finished_sqft        Lat        Lon  \\\n",
       "0       Detached   2019-04-25                    4450.0  38.890769 -77.348283   \n",
       "1       Detached   2019-05-22                    2282.0  38.945249 -77.265944   \n",
       "3       Detached   2021-04-16                    2282.0  38.945249 -77.265944   \n",
       "5       Detached   2019-06-20                    1497.0  38.788632 -77.221291   \n",
       "6       Detached   2019-06-27                    2732.0  38.890769 -77.348283   \n",
       "\n",
       "   year  month  Baths_cleaned  half_bath  full_bath  \n",
       "0  2019      4            1-4          1          4  \n",
       "1  2019      5            1-3          1          3  \n",
       "3  2021      4            1-3          1          3  \n",
       "5  2019      6            0-3          0          3  \n",
       "6  2019      6            0-4          0          4  \n",
       "\n",
       "[5 rows x 24 columns]"
      ]
     },
     "execution_count": 25,
     "metadata": {},
     "output_type": "execute_result"
    }
   ],
   "source": [
    "# Drop null vlaues\n",
    "Fairfax_home_cleaned_df = Fairfax_home_sale_df.dropna()\n",
    "Fairfax_home_cleaned_df.head()"
   ]
  },
  {
   "cell_type": "code",
   "execution_count": 26,
   "id": "ad41f850",
   "metadata": {},
   "outputs": [
    {
     "data": {
      "text/plain": [
       "MLS #                        0\n",
       "Cat                          0\n",
       "Status                       0\n",
       "Address                      0\n",
       "City                         0\n",
       "DOM                          0\n",
       "Subdivision/Neighborhood     0\n",
       "County                       0\n",
       "Year_Built                   0\n",
       "Bedrooms                     0\n",
       "Baths                        0\n",
       "Sold_Price                   0\n",
       "DOM/CDOM                     0\n",
       "Cost_per_sqft                0\n",
       "Structure Type               0\n",
       "Date_Closed                  0\n",
       "Above_Grade_Finished_sqft    0\n",
       "Lat                          0\n",
       "Lon                          0\n",
       "year                         0\n",
       "month                        0\n",
       "Baths_cleaned                0\n",
       "half_bath                    0\n",
       "full_bath                    0\n",
       "dtype: int64"
      ]
     },
     "execution_count": 26,
     "metadata": {},
     "output_type": "execute_result"
    }
   ],
   "source": [
    "# Verify the null vlaues are dropped\n",
    "Fairfax_home_cleaned_df.isnull().sum()"
   ]
  },
  {
   "cell_type": "code",
   "execution_count": 27,
   "id": "43a509b6",
   "metadata": {},
   "outputs": [
    {
     "data": {
      "text/plain": [
       "5      3359\n",
       "4      2792\n",
       "6      2609\n",
       "3      2002\n",
       "7      1752\n",
       "       ... \n",
       "555       1\n",
       "482       1\n",
       "586       1\n",
       "498       1\n",
       "272       1\n",
       "Name: DOM, Length: 393, dtype: int64"
      ]
     },
     "execution_count": 27,
     "metadata": {},
     "output_type": "execute_result"
    }
   ],
   "source": [
    "Fairfax_home_cleaned_df['DOM'].value_counts()"
   ]
  },
  {
   "cell_type": "code",
   "execution_count": 28,
   "id": "85818aa7",
   "metadata": {},
   "outputs": [
    {
     "data": {
      "text/plain": [
       "(30890, 24)"
      ]
     },
     "execution_count": 28,
     "metadata": {},
     "output_type": "execute_result"
    }
   ],
   "source": [
    "Fairfax_home_cleaned_df.shape"
   ]
  },
  {
   "cell_type": "code",
   "execution_count": 29,
   "id": "7a256c62",
   "metadata": {},
   "outputs": [
    {
     "data": {
      "text/plain": [
       "0    4\n",
       "1    3\n",
       "3    3\n",
       "5    3\n",
       "6    4\n",
       "Name: full_bath, dtype: int32"
      ]
     },
     "execution_count": 29,
     "metadata": {},
     "output_type": "execute_result"
    }
   ],
   "source": [
    "# Convert the datatype from object to int\n",
    "Fairfax_home_cleaned_df['full_bath'] = Fairfax_home_cleaned_df['full_bath'].astype(int)\n",
    "Fairfax_home_cleaned_df['full_bath'].head()"
   ]
  },
  {
   "cell_type": "code",
   "execution_count": 30,
   "id": "68ada3e5",
   "metadata": {},
   "outputs": [
    {
     "data": {
      "text/plain": [
       "0    1\n",
       "1    1\n",
       "3    1\n",
       "5    0\n",
       "6    0\n",
       "Name: half_bath, dtype: int32"
      ]
     },
     "execution_count": 30,
     "metadata": {},
     "output_type": "execute_result"
    }
   ],
   "source": [
    "# Convert the datatype from object to int\n",
    "Fairfax_home_cleaned_df['half_bath'] = Fairfax_home_cleaned_df['half_bath'].astype(int)\n",
    "Fairfax_home_cleaned_df['half_bath'].head()"
   ]
  },
  {
   "cell_type": "code",
   "execution_count": 31,
   "id": "2ee664c2",
   "metadata": {},
   "outputs": [
    {
     "data": {
      "text/plain": [
       "5      3359\n",
       "4      2792\n",
       "6      2609\n",
       "3      2002\n",
       "7      1752\n",
       "       ... \n",
       "555       1\n",
       "482       1\n",
       "586       1\n",
       "498       1\n",
       "272       1\n",
       "Name: DOM, Length: 393, dtype: int64"
      ]
     },
     "execution_count": 31,
     "metadata": {},
     "output_type": "execute_result"
    }
   ],
   "source": [
    "Fairfax_home_cleaned_df['DOM'].value_counts()"
   ]
  },
  {
   "cell_type": "markdown",
   "id": "7ebecb43",
   "metadata": {},
   "source": [
    "# Further data wrangling"
   ]
  },
  {
   "cell_type": "code",
   "execution_count": 32,
   "id": "8c679bf4",
   "metadata": {},
   "outputs": [],
   "source": [
    "# # Drop unnecessary columns\n",
    "Fairfax_home_cleaned_df2= Fairfax_home_cleaned_df.drop(['MLS #','Cat', 'Baths','Status','Date_Closed', 'Address','Subdivision/Neighborhood','DOM/CDOM',\n",
    "                            'Structure Type', 'County','Baths_cleaned', 'DOM' ], axis = 1)"
   ]
  },
  {
   "cell_type": "code",
   "execution_count": 33,
   "id": "8d0cad47",
   "metadata": {},
   "outputs": [
    {
     "data": {
      "text/html": [
       "<div>\n",
       "<style scoped>\n",
       "    .dataframe tbody tr th:only-of-type {\n",
       "        vertical-align: middle;\n",
       "    }\n",
       "\n",
       "    .dataframe tbody tr th {\n",
       "        vertical-align: top;\n",
       "    }\n",
       "\n",
       "    .dataframe thead th {\n",
       "        text-align: right;\n",
       "    }\n",
       "</style>\n",
       "<table border=\"1\" class=\"dataframe\">\n",
       "  <thead>\n",
       "    <tr style=\"text-align: right;\">\n",
       "      <th></th>\n",
       "      <th>City</th>\n",
       "      <th>Year_Built</th>\n",
       "      <th>Bedrooms</th>\n",
       "      <th>Sold_Price</th>\n",
       "      <th>Cost_per_sqft</th>\n",
       "      <th>Above_Grade_Finished_sqft</th>\n",
       "      <th>Lat</th>\n",
       "      <th>Lon</th>\n",
       "      <th>year</th>\n",
       "      <th>month</th>\n",
       "      <th>half_bath</th>\n",
       "      <th>full_bath</th>\n",
       "    </tr>\n",
       "  </thead>\n",
       "  <tbody>\n",
       "    <tr>\n",
       "      <th>0</th>\n",
       "      <td>Herndon</td>\n",
       "      <td>2019.0</td>\n",
       "      <td>4</td>\n",
       "      <td>1252430.0</td>\n",
       "      <td>281.44</td>\n",
       "      <td>4450.0</td>\n",
       "      <td>38.890769</td>\n",
       "      <td>-77.348283</td>\n",
       "      <td>2019</td>\n",
       "      <td>4</td>\n",
       "      <td>1</td>\n",
       "      <td>4</td>\n",
       "    </tr>\n",
       "    <tr>\n",
       "      <th>1</th>\n",
       "      <td>Vienna</td>\n",
       "      <td>1969.0</td>\n",
       "      <td>4</td>\n",
       "      <td>950000.0</td>\n",
       "      <td>416.30</td>\n",
       "      <td>2282.0</td>\n",
       "      <td>38.945249</td>\n",
       "      <td>-77.265944</td>\n",
       "      <td>2019</td>\n",
       "      <td>5</td>\n",
       "      <td>1</td>\n",
       "      <td>3</td>\n",
       "    </tr>\n",
       "    <tr>\n",
       "      <th>3</th>\n",
       "      <td>Vienna</td>\n",
       "      <td>1969.0</td>\n",
       "      <td>5</td>\n",
       "      <td>1070000.0</td>\n",
       "      <td>468.89</td>\n",
       "      <td>2282.0</td>\n",
       "      <td>38.945249</td>\n",
       "      <td>-77.265944</td>\n",
       "      <td>2021</td>\n",
       "      <td>4</td>\n",
       "      <td>1</td>\n",
       "      <td>3</td>\n",
       "    </tr>\n",
       "    <tr>\n",
       "      <th>5</th>\n",
       "      <td>Springfield</td>\n",
       "      <td>1967.0</td>\n",
       "      <td>5</td>\n",
       "      <td>685000.0</td>\n",
       "      <td>457.58</td>\n",
       "      <td>1497.0</td>\n",
       "      <td>38.788632</td>\n",
       "      <td>-77.221291</td>\n",
       "      <td>2019</td>\n",
       "      <td>6</td>\n",
       "      <td>0</td>\n",
       "      <td>3</td>\n",
       "    </tr>\n",
       "    <tr>\n",
       "      <th>6</th>\n",
       "      <td>Alexandria</td>\n",
       "      <td>2019.0</td>\n",
       "      <td>5</td>\n",
       "      <td>966410.0</td>\n",
       "      <td>353.74</td>\n",
       "      <td>2732.0</td>\n",
       "      <td>38.890769</td>\n",
       "      <td>-77.348283</td>\n",
       "      <td>2019</td>\n",
       "      <td>6</td>\n",
       "      <td>0</td>\n",
       "      <td>4</td>\n",
       "    </tr>\n",
       "  </tbody>\n",
       "</table>\n",
       "</div>"
      ],
      "text/plain": [
       "          City  Year_Built  Bedrooms  Sold_Price  Cost_per_sqft  \\\n",
       "0      Herndon      2019.0         4   1252430.0         281.44   \n",
       "1       Vienna      1969.0         4    950000.0         416.30   \n",
       "3       Vienna      1969.0         5   1070000.0         468.89   \n",
       "5  Springfield      1967.0         5    685000.0         457.58   \n",
       "6   Alexandria      2019.0         5    966410.0         353.74   \n",
       "\n",
       "   Above_Grade_Finished_sqft        Lat        Lon  year  month  half_bath  \\\n",
       "0                     4450.0  38.890769 -77.348283  2019      4          1   \n",
       "1                     2282.0  38.945249 -77.265944  2019      5          1   \n",
       "3                     2282.0  38.945249 -77.265944  2021      4          1   \n",
       "5                     1497.0  38.788632 -77.221291  2019      6          0   \n",
       "6                     2732.0  38.890769 -77.348283  2019      6          0   \n",
       "\n",
       "   full_bath  \n",
       "0          4  \n",
       "1          3  \n",
       "3          3  \n",
       "5          3  \n",
       "6          4  "
      ]
     },
     "execution_count": 33,
     "metadata": {},
     "output_type": "execute_result"
    }
   ],
   "source": [
    "# Preview new columns\n",
    "Fairfax_home_cleaned_df2.head()"
   ]
  },
  {
   "cell_type": "code",
   "execution_count": 34,
   "id": "e854d6db",
   "metadata": {},
   "outputs": [
    {
     "data": {
      "text/plain": [
       "(30890, 12)"
      ]
     },
     "execution_count": 34,
     "metadata": {},
     "output_type": "execute_result"
    }
   ],
   "source": [
    "Fairfax_home_cleaned_df2.shape"
   ]
  },
  {
   "cell_type": "code",
   "execution_count": 35,
   "id": "3495e9c1",
   "metadata": {},
   "outputs": [
    {
     "data": {
      "text/html": [
       "<div>\n",
       "<style scoped>\n",
       "    .dataframe tbody tr th:only-of-type {\n",
       "        vertical-align: middle;\n",
       "    }\n",
       "\n",
       "    .dataframe tbody tr th {\n",
       "        vertical-align: top;\n",
       "    }\n",
       "\n",
       "    .dataframe thead th {\n",
       "        text-align: right;\n",
       "    }\n",
       "</style>\n",
       "<table border=\"1\" class=\"dataframe\">\n",
       "  <thead>\n",
       "    <tr style=\"text-align: right;\">\n",
       "      <th></th>\n",
       "      <th>Sold_Price</th>\n",
       "      <th>City</th>\n",
       "      <th>Bedrooms</th>\n",
       "      <th>full_bath</th>\n",
       "      <th>half_bath</th>\n",
       "      <th>month</th>\n",
       "      <th>year</th>\n",
       "      <th>Lon</th>\n",
       "      <th>Lat</th>\n",
       "      <th>Cost_per_sqft</th>\n",
       "      <th>Above_Grade_Finished_sqft</th>\n",
       "      <th>Year_Built</th>\n",
       "    </tr>\n",
       "  </thead>\n",
       "  <tbody>\n",
       "    <tr>\n",
       "      <th>0</th>\n",
       "      <td>1252430.0</td>\n",
       "      <td>Herndon</td>\n",
       "      <td>4</td>\n",
       "      <td>4</td>\n",
       "      <td>1</td>\n",
       "      <td>4</td>\n",
       "      <td>2019</td>\n",
       "      <td>-77.348283</td>\n",
       "      <td>38.890769</td>\n",
       "      <td>281.44</td>\n",
       "      <td>4450.0</td>\n",
       "      <td>2019.0</td>\n",
       "    </tr>\n",
       "  </tbody>\n",
       "</table>\n",
       "</div>"
      ],
      "text/plain": [
       "   Sold_Price     City  Bedrooms  full_bath  half_bath  month  year  \\\n",
       "0   1252430.0  Herndon         4          4          1      4  2019   \n",
       "\n",
       "         Lon        Lat  Cost_per_sqft  Above_Grade_Finished_sqft  Year_Built  \n",
       "0 -77.348283  38.890769         281.44                     4450.0      2019.0  "
      ]
     },
     "execution_count": 35,
     "metadata": {},
     "output_type": "execute_result"
    }
   ],
   "source": [
    "# Reorder the columns for the sake of visual\n",
    "Fairfax_home_cleaned_df3 = Fairfax_home_cleaned_df2.iloc[:,[3,0,2,11,10,9,8,7,6,4,5,1]]\n",
    "Fairfax_home_cleaned_df3.head(1)"
   ]
  },
  {
   "cell_type": "code",
   "execution_count": 36,
   "id": "810222a1",
   "metadata": {},
   "outputs": [
    {
     "data": {
      "text/plain": [
       "(30890, 12)"
      ]
     },
     "execution_count": 36,
     "metadata": {},
     "output_type": "execute_result"
    }
   ],
   "source": [
    "Fairfax_home_cleaned_df3.shape"
   ]
  },
  {
   "cell_type": "code",
   "execution_count": 37,
   "id": "bc5393a9",
   "metadata": {},
   "outputs": [],
   "source": [
    "# Drop rows with zero bedrooms since that data could be just a land\n",
    "Fairfax_home_cleaned_df4 = Fairfax_home_cleaned_df3.\\\n",
    "drop(Fairfax_home_cleaned_df3[Fairfax_home_cleaned_df3['Bedrooms']==0].index)"
   ]
  },
  {
   "cell_type": "code",
   "execution_count": 38,
   "id": "77d56938",
   "metadata": {},
   "outputs": [
    {
     "data": {
      "text/plain": [
       "(30874, 12)"
      ]
     },
     "execution_count": 38,
     "metadata": {},
     "output_type": "execute_result"
    }
   ],
   "source": [
    "# Verify rows are removed\n",
    "Fairfax_home_cleaned_df4.shape"
   ]
  },
  {
   "cell_type": "code",
   "execution_count": 39,
   "id": "13a0eb4f",
   "metadata": {},
   "outputs": [],
   "source": [
    "# # Drop rows with house prices less than $92,500 since these prices are too low compared to the other houses in the area\n",
    "# Fairfax_home_cleaned_df5 = Fairfax_home_cleaned_df4.\\\n",
    "# drop(Fairfax_home_cleaned_df4[Fairfax_home_cleaned_df4['Sold_Price']<=92500].index)"
   ]
  },
  {
   "cell_type": "code",
   "execution_count": 40,
   "id": "028a6195",
   "metadata": {},
   "outputs": [],
   "source": [
    "# # Verify rows are removed\n",
    "# Fairfax_home_cleaned_df4.shape"
   ]
  },
  {
   "cell_type": "code",
   "execution_count": 41,
   "id": "c7a011b6",
   "metadata": {},
   "outputs": [
    {
     "data": {
      "text/html": [
       "<div>\n",
       "<style scoped>\n",
       "    .dataframe tbody tr th:only-of-type {\n",
       "        vertical-align: middle;\n",
       "    }\n",
       "\n",
       "    .dataframe tbody tr th {\n",
       "        vertical-align: top;\n",
       "    }\n",
       "\n",
       "    .dataframe thead th {\n",
       "        text-align: right;\n",
       "    }\n",
       "</style>\n",
       "<table border=\"1\" class=\"dataframe\">\n",
       "  <thead>\n",
       "    <tr style=\"text-align: right;\">\n",
       "      <th></th>\n",
       "      <th>Sold_Price</th>\n",
       "      <th>City</th>\n",
       "      <th>Bedrooms</th>\n",
       "      <th>full_bath</th>\n",
       "      <th>half_bath</th>\n",
       "      <th>month</th>\n",
       "      <th>year</th>\n",
       "      <th>Lon</th>\n",
       "      <th>Lat</th>\n",
       "      <th>Cost_per_sqft</th>\n",
       "      <th>Above_Grade_Finished_sqft</th>\n",
       "      <th>Year_Built</th>\n",
       "    </tr>\n",
       "  </thead>\n",
       "  <tbody>\n",
       "    <tr>\n",
       "      <th>0</th>\n",
       "      <td>1252430.0</td>\n",
       "      <td>Herndon</td>\n",
       "      <td>4</td>\n",
       "      <td>4</td>\n",
       "      <td>1</td>\n",
       "      <td>4</td>\n",
       "      <td>2019</td>\n",
       "      <td>-77.348283</td>\n",
       "      <td>38.890769</td>\n",
       "      <td>281.44</td>\n",
       "      <td>4450.0</td>\n",
       "      <td>2019.0</td>\n",
       "    </tr>\n",
       "  </tbody>\n",
       "</table>\n",
       "</div>"
      ],
      "text/plain": [
       "   Sold_Price     City  Bedrooms  full_bath  half_bath  month  year  \\\n",
       "0   1252430.0  Herndon         4          4          1      4  2019   \n",
       "\n",
       "         Lon        Lat  Cost_per_sqft  Above_Grade_Finished_sqft  Year_Built  \n",
       "0 -77.348283  38.890769         281.44                     4450.0      2019.0  "
      ]
     },
     "execution_count": 41,
     "metadata": {},
     "output_type": "execute_result"
    }
   ],
   "source": [
    "Fairfax_home_cleaned_df4 .head(1)"
   ]
  },
  {
   "cell_type": "code",
   "execution_count": 42,
   "id": "87591abe",
   "metadata": {},
   "outputs": [],
   "source": [
    "Final_df = Fairfax_home_cleaned_df4"
   ]
  },
  {
   "cell_type": "code",
   "execution_count": 43,
   "id": "2f1ae011",
   "metadata": {},
   "outputs": [
    {
     "data": {
      "text/plain": [
       "(30874, 12)"
      ]
     },
     "execution_count": 43,
     "metadata": {},
     "output_type": "execute_result"
    }
   ],
   "source": [
    "Final_df.shape"
   ]
  },
  {
   "cell_type": "markdown",
   "id": "3b59f459",
   "metadata": {},
   "source": [
    "# Plotting the cleaned data for exploratory data analysis"
   ]
  },
  {
   "cell_type": "code",
   "execution_count": 44,
   "id": "14c639d9",
   "metadata": {},
   "outputs": [
    {
     "data": {
      "text/html": [
       "<div>\n",
       "<style scoped>\n",
       "    .dataframe tbody tr th:only-of-type {\n",
       "        vertical-align: middle;\n",
       "    }\n",
       "\n",
       "    .dataframe tbody tr th {\n",
       "        vertical-align: top;\n",
       "    }\n",
       "\n",
       "    .dataframe thead th {\n",
       "        text-align: right;\n",
       "    }\n",
       "</style>\n",
       "<table border=\"1\" class=\"dataframe\">\n",
       "  <thead>\n",
       "    <tr style=\"text-align: right;\">\n",
       "      <th></th>\n",
       "      <th>count</th>\n",
       "      <th>mean</th>\n",
       "      <th>std</th>\n",
       "      <th>min</th>\n",
       "      <th>25%</th>\n",
       "      <th>50%</th>\n",
       "      <th>75%</th>\n",
       "      <th>max</th>\n",
       "    </tr>\n",
       "  </thead>\n",
       "  <tbody>\n",
       "    <tr>\n",
       "      <th>Sold_Price</th>\n",
       "      <td>30874.0</td>\n",
       "      <td>895520.881648</td>\n",
       "      <td>577272.263118</td>\n",
       "      <td>3400.000000</td>\n",
       "      <td>630000.000000</td>\n",
       "      <td>765000.000000</td>\n",
       "      <td>972500.000000</td>\n",
       "      <td>4.800000e+07</td>\n",
       "    </tr>\n",
       "    <tr>\n",
       "      <th>Bedrooms</th>\n",
       "      <td>30874.0</td>\n",
       "      <td>4.279232</td>\n",
       "      <td>0.902383</td>\n",
       "      <td>1.000000</td>\n",
       "      <td>4.000000</td>\n",
       "      <td>4.000000</td>\n",
       "      <td>5.000000</td>\n",
       "      <td>1.000000e+01</td>\n",
       "    </tr>\n",
       "    <tr>\n",
       "      <th>full_bath</th>\n",
       "      <td>30874.0</td>\n",
       "      <td>2.969003</td>\n",
       "      <td>1.104042</td>\n",
       "      <td>1.000000</td>\n",
       "      <td>2.000000</td>\n",
       "      <td>3.000000</td>\n",
       "      <td>3.000000</td>\n",
       "      <td>1.000000e+01</td>\n",
       "    </tr>\n",
       "    <tr>\n",
       "      <th>half_bath</th>\n",
       "      <td>30874.0</td>\n",
       "      <td>0.716946</td>\n",
       "      <td>0.594553</td>\n",
       "      <td>0.000000</td>\n",
       "      <td>0.000000</td>\n",
       "      <td>1.000000</td>\n",
       "      <td>1.000000</td>\n",
       "      <td>6.000000e+00</td>\n",
       "    </tr>\n",
       "    <tr>\n",
       "      <th>month</th>\n",
       "      <td>30874.0</td>\n",
       "      <td>6.746939</td>\n",
       "      <td>3.138485</td>\n",
       "      <td>1.000000</td>\n",
       "      <td>4.000000</td>\n",
       "      <td>7.000000</td>\n",
       "      <td>9.000000</td>\n",
       "      <td>1.200000e+01</td>\n",
       "    </tr>\n",
       "    <tr>\n",
       "      <th>year</th>\n",
       "      <td>30874.0</td>\n",
       "      <td>2020.404191</td>\n",
       "      <td>1.135082</td>\n",
       "      <td>2019.000000</td>\n",
       "      <td>2019.000000</td>\n",
       "      <td>2020.000000</td>\n",
       "      <td>2021.000000</td>\n",
       "      <td>2.023000e+03</td>\n",
       "    </tr>\n",
       "    <tr>\n",
       "      <th>Lon</th>\n",
       "      <td>30874.0</td>\n",
       "      <td>-77.819021</td>\n",
       "      <td>3.021277</td>\n",
       "      <td>-149.321559</td>\n",
       "      <td>-77.348283</td>\n",
       "      <td>-77.348283</td>\n",
       "      <td>-77.321795</td>\n",
       "      <td>-7.081444e+01</td>\n",
       "    </tr>\n",
       "    <tr>\n",
       "      <th>Lat</th>\n",
       "      <td>30874.0</td>\n",
       "      <td>38.683586</td>\n",
       "      <td>1.158192</td>\n",
       "      <td>25.838555</td>\n",
       "      <td>38.869219</td>\n",
       "      <td>38.890769</td>\n",
       "      <td>38.890769</td>\n",
       "      <td>6.115799e+01</td>\n",
       "    </tr>\n",
       "    <tr>\n",
       "      <th>Cost_per_sqft</th>\n",
       "      <td>30874.0</td>\n",
       "      <td>829.633414</td>\n",
       "      <td>21130.505094</td>\n",
       "      <td>2.650000</td>\n",
       "      <td>295.490000</td>\n",
       "      <td>358.740000</td>\n",
       "      <td>446.880000</td>\n",
       "      <td>1.725679e+06</td>\n",
       "    </tr>\n",
       "    <tr>\n",
       "      <th>Above_Grade_Finished_sqft</th>\n",
       "      <td>30874.0</td>\n",
       "      <td>2508.965635</td>\n",
       "      <td>1313.475671</td>\n",
       "      <td>1.000000</td>\n",
       "      <td>1540.000000</td>\n",
       "      <td>2220.000000</td>\n",
       "      <td>3100.000000</td>\n",
       "      <td>1.680000e+04</td>\n",
       "    </tr>\n",
       "    <tr>\n",
       "      <th>Year_Built</th>\n",
       "      <td>30874.0</td>\n",
       "      <td>1976.907592</td>\n",
       "      <td>40.890264</td>\n",
       "      <td>0.000000</td>\n",
       "      <td>1963.000000</td>\n",
       "      <td>1977.000000</td>\n",
       "      <td>1989.000000</td>\n",
       "      <td>2.023000e+03</td>\n",
       "    </tr>\n",
       "  </tbody>\n",
       "</table>\n",
       "</div>"
      ],
      "text/plain": [
       "                             count           mean            std          min  \\\n",
       "Sold_Price                 30874.0  895520.881648  577272.263118  3400.000000   \n",
       "Bedrooms                   30874.0       4.279232       0.902383     1.000000   \n",
       "full_bath                  30874.0       2.969003       1.104042     1.000000   \n",
       "half_bath                  30874.0       0.716946       0.594553     0.000000   \n",
       "month                      30874.0       6.746939       3.138485     1.000000   \n",
       "year                       30874.0    2020.404191       1.135082  2019.000000   \n",
       "Lon                        30874.0     -77.819021       3.021277  -149.321559   \n",
       "Lat                        30874.0      38.683586       1.158192    25.838555   \n",
       "Cost_per_sqft              30874.0     829.633414   21130.505094     2.650000   \n",
       "Above_Grade_Finished_sqft  30874.0    2508.965635    1313.475671     1.000000   \n",
       "Year_Built                 30874.0    1976.907592      40.890264     0.000000   \n",
       "\n",
       "                                     25%            50%            75%  \\\n",
       "Sold_Price                 630000.000000  765000.000000  972500.000000   \n",
       "Bedrooms                        4.000000       4.000000       5.000000   \n",
       "full_bath                       2.000000       3.000000       3.000000   \n",
       "half_bath                       0.000000       1.000000       1.000000   \n",
       "month                           4.000000       7.000000       9.000000   \n",
       "year                         2019.000000    2020.000000    2021.000000   \n",
       "Lon                           -77.348283     -77.348283     -77.321795   \n",
       "Lat                            38.869219      38.890769      38.890769   \n",
       "Cost_per_sqft                 295.490000     358.740000     446.880000   \n",
       "Above_Grade_Finished_sqft    1540.000000    2220.000000    3100.000000   \n",
       "Year_Built                   1963.000000    1977.000000    1989.000000   \n",
       "\n",
       "                                    max  \n",
       "Sold_Price                 4.800000e+07  \n",
       "Bedrooms                   1.000000e+01  \n",
       "full_bath                  1.000000e+01  \n",
       "half_bath                  6.000000e+00  \n",
       "month                      1.200000e+01  \n",
       "year                       2.023000e+03  \n",
       "Lon                       -7.081444e+01  \n",
       "Lat                        6.115799e+01  \n",
       "Cost_per_sqft              1.725679e+06  \n",
       "Above_Grade_Finished_sqft  1.680000e+04  \n",
       "Year_Built                 2.023000e+03  "
      ]
     },
     "execution_count": 44,
     "metadata": {},
     "output_type": "execute_result"
    }
   ],
   "source": [
    "# use describe function to see the statistical summary of the data. Used transpose to switch between the rows/columns\n",
    "Final_df.describe().transpose()"
   ]
  },
  {
   "cell_type": "code",
   "execution_count": 45,
   "id": "91d34bba",
   "metadata": {},
   "outputs": [
    {
     "data": {
      "text/plain": [
       "<Axes: >"
      ]
     },
     "execution_count": 45,
     "metadata": {},
     "output_type": "execute_result"
    },
    {
     "data": {
      "image/png": "[encoded data removed]",
      "text/plain": [
       "<Figure size 640x480 with 1 Axes>"
      ]
     },
     "metadata": {},
     "output_type": "display_data"
    }
   ],
   "source": [
    "Final_df.corr()['Sold_Price'].sort_values().drop('Sold_Price').plot(kind='bar')"
   ]
  },
  {
   "cell_type": "code",
   "execution_count": null,
   "id": "897cada9",
   "metadata": {},
   "outputs": [],
   "source": []
  },
  {
   "cell_type": "code",
   "execution_count": 46,
   "id": "2771c8a0",
   "metadata": {},
   "outputs": [
    {
     "data": {
      "text/plain": [
       "<Axes: xlabel='Sold_Price', ylabel='Density'>"
      ]
     },
     "execution_count": 46,
     "metadata": {},
     "output_type": "execute_result"
    },
    {
     "data": {
      "image/png": "[encoded data removed]",
      "text/plain": [
       "<Figure size 600x600 with 1 Axes>"
      ]
     },
     "metadata": {},
     "output_type": "display_data"
    }
   ],
   "source": [
    "# Plot to see the price ranges of the houses or distribution of the prices of the houses\n",
    "plt.figure(figsize = (6,6))\n",
    "sns.distplot(Final_df['Sold_Price'])"
   ]
  },
  {
   "cell_type": "code",
   "execution_count": 47,
   "id": "45ddb918",
   "metadata": {},
   "outputs": [
    {
     "data": {
      "text/plain": [
       "<Axes: xlabel='Sold_Price', ylabel='Count'>"
      ]
     },
     "execution_count": 47,
     "metadata": {},
     "output_type": "execute_result"
    },
    {
     "data": {
      "image/png": "[encoded data removed]",
      "text/plain": [
       "<Figure size 1000x500 with 1 Axes>"
      ]
     },
     "metadata": {},
     "output_type": "display_data"
    }
   ],
   "source": [
    "plt.figure(figsize=(10,5))\n",
    "sns.histplot(data=Final_df,x='Sold_Price')"
   ]
  },
  {
   "cell_type": "markdown",
   "id": "2801409a",
   "metadata": {},
   "source": [
    "From this plot, we notice that most houses in the data have a price range of between 0 and 5 million dollars"
   ]
  },
  {
   "cell_type": "code",
   "execution_count": 48,
   "id": "6fdbab55",
   "metadata": {},
   "outputs": [
    {
     "data": {
      "text/plain": [
       "<Axes: >"
      ]
     },
     "execution_count": 48,
     "metadata": {},
     "output_type": "execute_result"
    },
    {
     "data": {
      "image/png": "[encoded data removed]",
      "text/plain": [
       "<Figure size 1200x700 with 2 Axes>"
      ]
     },
     "metadata": {},
     "output_type": "display_data"
    }
   ],
   "source": [
    "plt.figure(figsize = (12,7))\n",
    "sns.heatmap(Final_df.corr(), annot = True, cmap = 'viridis')"
   ]
  },
  {
   "cell_type": "code",
   "execution_count": null,
   "id": "393d9621",
   "metadata": {},
   "outputs": [],
   "source": []
  },
  {
   "cell_type": "code",
   "execution_count": 49,
   "id": "d2b29457",
   "metadata": {},
   "outputs": [
    {
     "data": {
      "text/plain": [
       "<Axes: xlabel='Bedrooms', ylabel='count'>"
      ]
     },
     "execution_count": 49,
     "metadata": {},
     "output_type": "execute_result"
    },
    {
     "data": {
      "image/png": "[encoded data removed]",
      "text/plain": [
       "<Figure size 640x480 with 1 Axes>"
      ]
     },
     "metadata": {},
     "output_type": "display_data"
    }
   ],
   "source": [
    "# Let's see the number of bedrooms\n",
    "sns.countplot(data = Final_df, x = 'Bedrooms')"
   ]
  },
  {
   "cell_type": "code",
   "execution_count": 50,
   "id": "e5cc528c",
   "metadata": {},
   "outputs": [
    {
     "data": {
      "text/plain": [
       "Sold_Price                   1.000000\n",
       "Above_Grade_Finished_sqft    0.684586\n",
       "full_bath                    0.594236\n",
       "Bedrooms                     0.426905\n",
       "half_bath                    0.376760\n",
       "Year_Built                   0.179477\n",
       "year                         0.145901\n",
       "Cost_per_sqft                0.033329\n",
       "month                        0.021014\n",
       "Lat                         -0.015030\n",
       "Lon                         -0.020265\n",
       "Name: Sold_Price, dtype: float64"
      ]
     },
     "execution_count": 50,
     "metadata": {},
     "output_type": "execute_result"
    }
   ],
   "source": [
    "Final_df.corr()['Sold_Price'].sort_values(ascending = False)"
   ]
  },
  {
   "cell_type": "markdown",
   "id": "2613288d",
   "metadata": {},
   "source": [
    "The correlation data indicates that the sold price has a higher positive correlation with Above_Grade_Finished_sqft.\n",
    "Let's explore more the correlation of of sold price with Above_Grade_Finished_sqft using a scatter plot "
   ]
  },
  {
   "cell_type": "code",
   "execution_count": 51,
   "id": "2d1fa37f",
   "metadata": {},
   "outputs": [
    {
     "data": {
      "text/plain": [
       "<Axes: xlabel='Sold_Price', ylabel='Above_Grade_Finished_sqft'>"
      ]
     },
     "execution_count": 51,
     "metadata": {},
     "output_type": "execute_result"
    },
    {
     "data": {
      "image/png": "[encoded data removed]",
      "text/plain": [
       "<Figure size 800x600 with 1 Axes>"
      ]
     },
     "metadata": {},
     "output_type": "display_data"
    }
   ],
   "source": [
    "plt.figure(figsize = (8,6))\n",
    "sns.scatterplot(x = 'Sold_Price', y = 'Above_Grade_Finished_sqft', data = Final_df)"
   ]
  },
  {
   "cell_type": "markdown",
   "id": "513dc59f",
   "metadata": {},
   "source": [
    "From the scatter plot, we can notice that there is not a strong linear relationship trhoughout the data. \n",
    "Within the 10 million price range, there is a linear relatioship, however, after the 10 million, not significant"
   ]
  },
  {
   "cell_type": "code",
   "execution_count": 61,
   "id": "dd2bd2ba",
   "metadata": {},
   "outputs": [
    {
     "data": {
      "text/plain": [
       "<Axes: xlabel='full_bath', ylabel='Sold_Price'>"
      ]
     },
     "execution_count": 61,
     "metadata": {},
     "output_type": "execute_result"
    },
    {
     "data": {
      "image/png": "[encoded data removed]",
      "text/plain": [
       "<Figure size 800x600 with 1 Axes>"
      ]
     },
     "metadata": {},
     "output_type": "display_data"
    }
   ],
   "source": [
    "plt.figure(figsize = (8,6))\n",
    "sns.lineplot(y = 'Sold_Price', x = 'full_bath', ci = None,data = Final_df)"
   ]
  },
  {
   "cell_type": "markdown",
   "id": "f043a0c1",
   "metadata": {},
   "source": [
    "This plot shows the distribution of prices per fullbath. There is variation of price between full bath 4 and 10.The majority of the houses have beedroom between 4 and 10 "
   ]
  },
  {
   "cell_type": "code",
   "execution_count": 62,
   "id": "bb337b11",
   "metadata": {},
   "outputs": [
    {
     "data": {
      "text/plain": [
       "<Axes: xlabel='Bedrooms', ylabel='Sold_Price'>"
      ]
     },
     "execution_count": 62,
     "metadata": {},
     "output_type": "execute_result"
    },
    {
     "data": {
      "image/png": "[encoded data removed]",
      "text/plain": [
       "<Figure size 1000x600 with 1 Axes>"
      ]
     },
     "metadata": {},
     "output_type": "display_data"
    }
   ],
   "source": [
    "plt.figure(figsize = (10,6))\n",
    "sns.lineplot(y = 'Sold_Price', x = 'Bedrooms', ci = None, data = Final_df)"
   ]
  },
  {
   "cell_type": "code",
   "execution_count": 63,
   "id": "92644412",
   "metadata": {},
   "outputs": [
    {
     "data": {
      "text/plain": [
       "<Axes: xlabel='Lat', ylabel='Lon'>"
      ]
     },
     "execution_count": 63,
     "metadata": {},
     "output_type": "execute_result"
    },
    {
     "data": {
      "image/png": "[encoded data removed]",
      "text/plain": [
       "<Figure size 1000x600 with 1 Axes>"
      ]
     },
     "metadata": {},
     "output_type": "display_data"
    }
   ],
   "source": [
    "plt.figure(figsize = (10,6))\n",
    "sns.scatterplot(y = 'Lon', x = 'Lat', data = Final_df, hue = 'Sold_Price')"
   ]
  },
  {
   "cell_type": "markdown",
   "id": "b02829ce",
   "metadata": {},
   "source": [
    "outlier hide the real look"
   ]
  },
  {
   "cell_type": "code",
   "execution_count": 52,
   "id": "030429c8",
   "metadata": {},
   "outputs": [
    {
     "data": {
      "text/html": [
       "<div>\n",
       "<style scoped>\n",
       "    .dataframe tbody tr th:only-of-type {\n",
       "        vertical-align: middle;\n",
       "    }\n",
       "\n",
       "    .dataframe tbody tr th {\n",
       "        vertical-align: top;\n",
       "    }\n",
       "\n",
       "    .dataframe thead th {\n",
       "        text-align: right;\n",
       "    }\n",
       "</style>\n",
       "<table border=\"1\" class=\"dataframe\">\n",
       "  <thead>\n",
       "    <tr style=\"text-align: right;\">\n",
       "      <th></th>\n",
       "      <th>Sold_Price</th>\n",
       "      <th>City</th>\n",
       "      <th>Bedrooms</th>\n",
       "      <th>full_bath</th>\n",
       "      <th>half_bath</th>\n",
       "      <th>month</th>\n",
       "      <th>year</th>\n",
       "      <th>Lon</th>\n",
       "      <th>Lat</th>\n",
       "      <th>Cost_per_sqft</th>\n",
       "      <th>Above_Grade_Finished_sqft</th>\n",
       "      <th>Year_Built</th>\n",
       "    </tr>\n",
       "  </thead>\n",
       "  <tbody>\n",
       "    <tr>\n",
       "      <th>29664</th>\n",
       "      <td>48000000.0</td>\n",
       "      <td>Alexandria</td>\n",
       "      <td>7</td>\n",
       "      <td>7</td>\n",
       "      <td>6</td>\n",
       "      <td>10</td>\n",
       "      <td>2021</td>\n",
       "      <td>-77.348283</td>\n",
       "      <td>38.890769</td>\n",
       "      <td>3000.00</td>\n",
       "      <td>16000.0</td>\n",
       "      <td>2018.0</td>\n",
       "    </tr>\n",
       "    <tr>\n",
       "      <th>29976</th>\n",
       "      <td>23000000.0</td>\n",
       "      <td>Mclean</td>\n",
       "      <td>5</td>\n",
       "      <td>5</td>\n",
       "      <td>4</td>\n",
       "      <td>9</td>\n",
       "      <td>2022</td>\n",
       "      <td>-77.307720</td>\n",
       "      <td>38.874765</td>\n",
       "      <td>1533.33</td>\n",
       "      <td>15000.0</td>\n",
       "      <td>1975.0</td>\n",
       "    </tr>\n",
       "    <tr>\n",
       "      <th>25443</th>\n",
       "      <td>15000000.0</td>\n",
       "      <td>Mclean</td>\n",
       "      <td>5</td>\n",
       "      <td>4</td>\n",
       "      <td>3</td>\n",
       "      <td>11</td>\n",
       "      <td>2021</td>\n",
       "      <td>-77.354125</td>\n",
       "      <td>38.894863</td>\n",
       "      <td>2550.15</td>\n",
       "      <td>5882.0</td>\n",
       "      <td>1986.0</td>\n",
       "    </tr>\n",
       "    <tr>\n",
       "      <th>24791</th>\n",
       "      <td>11000000.0</td>\n",
       "      <td>Mclean</td>\n",
       "      <td>6</td>\n",
       "      <td>9</td>\n",
       "      <td>3</td>\n",
       "      <td>4</td>\n",
       "      <td>2021</td>\n",
       "      <td>-77.348283</td>\n",
       "      <td>38.890769</td>\n",
       "      <td>843.88</td>\n",
       "      <td>13035.0</td>\n",
       "      <td>2007.0</td>\n",
       "    </tr>\n",
       "    <tr>\n",
       "      <th>34089</th>\n",
       "      <td>10800000.0</td>\n",
       "      <td>Mclean</td>\n",
       "      <td>7</td>\n",
       "      <td>7</td>\n",
       "      <td>2</td>\n",
       "      <td>1</td>\n",
       "      <td>2023</td>\n",
       "      <td>-77.348283</td>\n",
       "      <td>38.890769</td>\n",
       "      <td>839.75</td>\n",
       "      <td>12861.0</td>\n",
       "      <td>2010.0</td>\n",
       "    </tr>\n",
       "    <tr>\n",
       "      <th>...</th>\n",
       "      <td>...</td>\n",
       "      <td>...</td>\n",
       "      <td>...</td>\n",
       "      <td>...</td>\n",
       "      <td>...</td>\n",
       "      <td>...</td>\n",
       "      <td>...</td>\n",
       "      <td>...</td>\n",
       "      <td>...</td>\n",
       "      <td>...</td>\n",
       "      <td>...</td>\n",
       "      <td>...</td>\n",
       "    </tr>\n",
       "    <tr>\n",
       "      <th>26791</th>\n",
       "      <td>1950000.0</td>\n",
       "      <td>Great Falls</td>\n",
       "      <td>5</td>\n",
       "      <td>4</td>\n",
       "      <td>1</td>\n",
       "      <td>12</td>\n",
       "      <td>2021</td>\n",
       "      <td>-77.334648</td>\n",
       "      <td>39.050991</td>\n",
       "      <td>438.20</td>\n",
       "      <td>4450.0</td>\n",
       "      <td>2001.0</td>\n",
       "    </tr>\n",
       "    <tr>\n",
       "      <th>6363</th>\n",
       "      <td>1950000.0</td>\n",
       "      <td>Great Falls</td>\n",
       "      <td>6</td>\n",
       "      <td>5</td>\n",
       "      <td>0</td>\n",
       "      <td>11</td>\n",
       "      <td>2019</td>\n",
       "      <td>-77.348283</td>\n",
       "      <td>38.890769</td>\n",
       "      <td>356.36</td>\n",
       "      <td>5472.0</td>\n",
       "      <td>1995.0</td>\n",
       "    </tr>\n",
       "    <tr>\n",
       "      <th>3522</th>\n",
       "      <td>1950000.0</td>\n",
       "      <td>Vienna</td>\n",
       "      <td>5</td>\n",
       "      <td>4</td>\n",
       "      <td>2</td>\n",
       "      <td>9</td>\n",
       "      <td>2022</td>\n",
       "      <td>-77.348283</td>\n",
       "      <td>38.890769</td>\n",
       "      <td>382.35</td>\n",
       "      <td>5100.0</td>\n",
       "      <td>1991.0</td>\n",
       "    </tr>\n",
       "    <tr>\n",
       "      <th>27378</th>\n",
       "      <td>1950000.0</td>\n",
       "      <td>Mclean</td>\n",
       "      <td>5</td>\n",
       "      <td>6</td>\n",
       "      <td>0</td>\n",
       "      <td>7</td>\n",
       "      <td>2021</td>\n",
       "      <td>-77.348283</td>\n",
       "      <td>38.890769</td>\n",
       "      <td>396.50</td>\n",
       "      <td>4918.0</td>\n",
       "      <td>2005.0</td>\n",
       "    </tr>\n",
       "    <tr>\n",
       "      <th>32292</th>\n",
       "      <td>1950000.0</td>\n",
       "      <td>Oakton</td>\n",
       "      <td>5</td>\n",
       "      <td>4</td>\n",
       "      <td>2</td>\n",
       "      <td>7</td>\n",
       "      <td>2022</td>\n",
       "      <td>-77.326607</td>\n",
       "      <td>38.881474</td>\n",
       "      <td>472.73</td>\n",
       "      <td>4125.0</td>\n",
       "      <td>1997.0</td>\n",
       "    </tr>\n",
       "  </tbody>\n",
       "</table>\n",
       "<p>1000 rows × 12 columns</p>\n",
       "</div>"
      ],
      "text/plain": [
       "       Sold_Price         City  Bedrooms  full_bath  half_bath  month  year  \\\n",
       "29664  48000000.0   Alexandria         7          7          6     10  2021   \n",
       "29976  23000000.0       Mclean         5          5          4      9  2022   \n",
       "25443  15000000.0       Mclean         5          4          3     11  2021   \n",
       "24791  11000000.0       Mclean         6          9          3      4  2021   \n",
       "34089  10800000.0       Mclean         7          7          2      1  2023   \n",
       "...           ...          ...       ...        ...        ...    ...   ...   \n",
       "26791   1950000.0  Great Falls         5          4          1     12  2021   \n",
       "6363    1950000.0  Great Falls         6          5          0     11  2019   \n",
       "3522    1950000.0       Vienna         5          4          2      9  2022   \n",
       "27378   1950000.0       Mclean         5          6          0      7  2021   \n",
       "32292   1950000.0       Oakton         5          4          2      7  2022   \n",
       "\n",
       "             Lon        Lat  Cost_per_sqft  Above_Grade_Finished_sqft  \\\n",
       "29664 -77.348283  38.890769        3000.00                    16000.0   \n",
       "29976 -77.307720  38.874765        1533.33                    15000.0   \n",
       "25443 -77.354125  38.894863        2550.15                     5882.0   \n",
       "24791 -77.348283  38.890769         843.88                    13035.0   \n",
       "34089 -77.348283  38.890769         839.75                    12861.0   \n",
       "...          ...        ...            ...                        ...   \n",
       "26791 -77.334648  39.050991         438.20                     4450.0   \n",
       "6363  -77.348283  38.890769         356.36                     5472.0   \n",
       "3522  -77.348283  38.890769         382.35                     5100.0   \n",
       "27378 -77.348283  38.890769         396.50                     4918.0   \n",
       "32292 -77.326607  38.881474         472.73                     4125.0   \n",
       "\n",
       "       Year_Built  \n",
       "29664      2018.0  \n",
       "29976      1975.0  \n",
       "25443      1986.0  \n",
       "24791      2007.0  \n",
       "34089      2010.0  \n",
       "...           ...  \n",
       "26791      2001.0  \n",
       "6363       1995.0  \n",
       "3522       1991.0  \n",
       "27378      2005.0  \n",
       "32292      1997.0  \n",
       "\n",
       "[1000 rows x 12 columns]"
      ]
     },
     "execution_count": 52,
     "metadata": {},
     "output_type": "execute_result"
    }
   ],
   "source": [
    "Final_df.sort_values('Sold_Price', ascending = False).head(1000)"
   ]
  },
  {
   "cell_type": "code",
   "execution_count": 65,
   "id": "ffed298e",
   "metadata": {},
   "outputs": [
    {
     "data": {
      "text/plain": [
       "(30874, 12)"
      ]
     },
     "execution_count": 65,
     "metadata": {},
     "output_type": "execute_result"
    }
   ],
   "source": [
    "Final_df.shape"
   ]
  },
  {
   "cell_type": "code",
   "execution_count": 53,
   "id": "12560ca6",
   "metadata": {},
   "outputs": [
    {
     "data": {
      "text/plain": [
       "1029.1333333333332"
      ]
     },
     "execution_count": 53,
     "metadata": {},
     "output_type": "execute_result"
    }
   ],
   "source": [
    "len(Final_df)*0.03333333333333333"
   ]
  },
  {
   "cell_type": "code",
   "execution_count": 54,
   "id": "ae6807e7",
   "metadata": {},
   "outputs": [],
   "source": [
    "df = Final_df.sort_values('Sold_Price', ascending = False).iloc[1000:]"
   ]
  },
  {
   "cell_type": "code",
   "execution_count": 55,
   "id": "10d58742",
   "metadata": {},
   "outputs": [
    {
     "data": {
      "text/plain": [
       "(29874, 12)"
      ]
     },
     "execution_count": 55,
     "metadata": {},
     "output_type": "execute_result"
    }
   ],
   "source": [
    "df.shape"
   ]
  },
  {
   "cell_type": "code",
   "execution_count": 56,
   "id": "c0a70c86",
   "metadata": {},
   "outputs": [
    {
     "data": {
      "text/plain": [
       "<Axes: xlabel='Lat', ylabel='Lon'>"
      ]
     },
     "execution_count": 56,
     "metadata": {},
     "output_type": "execute_result"
    },
    {
     "data": {
      "image/png": "[encoded data removed]",
      "text/plain": [
       "<Figure size 1000x600 with 1 Axes>"
      ]
     },
     "metadata": {},
     "output_type": "display_data"
    }
   ],
   "source": [
    "plt.figure(figsize = (10,6))\n",
    "sns.scatterplot(x = 'Lat', y = 'Lon', data = df, alpha = 1,hue = 'Sold_Price')"
   ]
  },
  {
   "cell_type": "code",
   "execution_count": 1,
   "id": "7a3c4935",
   "metadata": {},
   "outputs": [
    {
     "ename": "NameError",
     "evalue": "name 'plt' is not defined",
     "output_type": "error",
     "traceback": [
      "\u001b[1;31m---------------------------------------------------------------------------\u001b[0m",
      "\u001b[1;31mNameError\u001b[0m                                 Traceback (most recent call last)",
      "Cell \u001b[1;32mIn[1], line 1\u001b[0m\n\u001b[1;32m----> 1\u001b[0m \u001b[43mplt\u001b[49m\u001b[38;5;241m.\u001b[39mfigure(figsize\u001b[38;5;241m=\u001b[39m(\u001b[38;5;241m10\u001b[39m,\u001b[38;5;241m5\u001b[39m))\n\u001b[0;32m      2\u001b[0m sns\u001b[38;5;241m.\u001b[39mhistplot(data\u001b[38;5;241m=\u001b[39mdf,x\u001b[38;5;241m=\u001b[39m\u001b[38;5;124m'\u001b[39m\u001b[38;5;124mSold_Price\u001b[39m\u001b[38;5;124m'\u001b[39m, hue \u001b[38;5;241m=\u001b[39m \u001b[38;5;124m'\u001b[39m\u001b[38;5;124mSold_Price\u001b[39m\u001b[38;5;124m'\u001b[39m)\n",
      "\u001b[1;31mNameError\u001b[0m: name 'plt' is not defined"
     ]
    }
   ],
   "source": [
    "plt.figure(figsize=(10,5))\n",
    "sns.histplot(data=df,x='Sold_Price', hue = 'Sold_Price')"
   ]
  },
  {
   "cell_type": "code",
   "execution_count": null,
   "id": "cd3db44e",
   "metadata": {},
   "outputs": [],
   "source": [
    "#Let's explore the month/year correlation with price\n",
    "plt.figure(figsize = (8,5))\n",
    "Final_df.groupby('month')['Sold_Price'].mean().plot()"
   ]
  },
  {
   "cell_type": "markdown",
   "id": "247e9b14",
   "metadata": {},
   "source": [
    "Around half a million difference between the min and max price per months average"
   ]
  },
  {
   "cell_type": "code",
   "execution_count": null,
   "id": "72810cbf",
   "metadata": {},
   "outputs": [],
   "source": [
    "#Let's explore the month/year correlation with price\n",
    "plt.figure(figsize = (8,5))\n",
    "Final_df.groupby('year')['Sold_Price'].mean().plot()"
   ]
  },
  {
   "cell_type": "markdown",
   "id": "2d89db35",
   "metadata": {},
   "source": [
    "There was a sharp increase in sales price in the years 2020 to 2021. A slight slowdown starting mid 2021 to 2022. \n",
    "It seems though that it is getting a little momentum again"
   ]
  },
  {
   "cell_type": "code",
   "execution_count": null,
   "id": "ad06f96a",
   "metadata": {},
   "outputs": [],
   "source": [
    "Final_df.head(1)"
   ]
  },
  {
   "cell_type": "markdown",
   "id": "5f6c3d53",
   "metadata": {},
   "source": [
    "# Data Preprocessing"
   ]
  },
  {
   "cell_type": "markdown",
   "id": "d13ed165",
   "metadata": {},
   "source": [
    "#dummies = pd.get_dummies(df['city'], drop_first = True -->.\n",
    "df=pd.concat([df.drop(city, axis=1),dummies], axis=1"
   ]
  },
  {
   "cell_type": "code",
   "execution_count": 63,
   "id": "cc788dac",
   "metadata": {},
   "outputs": [
    {
     "data": {
      "text/html": [
       "<div>\n",
       "<style scoped>\n",
       "    .dataframe tbody tr th:only-of-type {\n",
       "        vertical-align: middle;\n",
       "    }\n",
       "\n",
       "    .dataframe tbody tr th {\n",
       "        vertical-align: top;\n",
       "    }\n",
       "\n",
       "    .dataframe thead th {\n",
       "        text-align: right;\n",
       "    }\n",
       "</style>\n",
       "<table border=\"1\" class=\"dataframe\">\n",
       "  <thead>\n",
       "    <tr style=\"text-align: right;\">\n",
       "      <th></th>\n",
       "      <th>Sold_Price</th>\n",
       "      <th>Bedrooms</th>\n",
       "      <th>full_bath</th>\n",
       "      <th>half_bath</th>\n",
       "      <th>month</th>\n",
       "      <th>year</th>\n",
       "      <th>Lon</th>\n",
       "      <th>Lat</th>\n",
       "      <th>Cost_per_sqft</th>\n",
       "      <th>Above_Grade_Finished_sqft</th>\n",
       "      <th>...</th>\n",
       "      <th>City_Lorton</th>\n",
       "      <th>City_Mason Neck</th>\n",
       "      <th>City_Mclean</th>\n",
       "      <th>City_North Springfield</th>\n",
       "      <th>City_Oak Hill</th>\n",
       "      <th>City_Oakton</th>\n",
       "      <th>City_Reston</th>\n",
       "      <th>City_Springfield</th>\n",
       "      <th>City_Vienna</th>\n",
       "      <th>City_West Springfield</th>\n",
       "    </tr>\n",
       "  </thead>\n",
       "  <tbody>\n",
       "    <tr>\n",
       "      <th>0</th>\n",
       "      <td>1252430.0</td>\n",
       "      <td>4</td>\n",
       "      <td>4</td>\n",
       "      <td>1</td>\n",
       "      <td>4</td>\n",
       "      <td>2019</td>\n",
       "      <td>-77.348283</td>\n",
       "      <td>38.890769</td>\n",
       "      <td>281.44</td>\n",
       "      <td>4450.0</td>\n",
       "      <td>...</td>\n",
       "      <td>0</td>\n",
       "      <td>0</td>\n",
       "      <td>0</td>\n",
       "      <td>0</td>\n",
       "      <td>0</td>\n",
       "      <td>0</td>\n",
       "      <td>0</td>\n",
       "      <td>0</td>\n",
       "      <td>0</td>\n",
       "      <td>0</td>\n",
       "    </tr>\n",
       "  </tbody>\n",
       "</table>\n",
       "<p>1 rows × 35 columns</p>\n",
       "</div>"
      ],
      "text/plain": [
       "   Sold_Price  Bedrooms  full_bath  half_bath  month  year        Lon  \\\n",
       "0   1252430.0         4          4          1      4  2019 -77.348283   \n",
       "\n",
       "         Lat  Cost_per_sqft  Above_Grade_Finished_sqft  ...  City_Lorton  \\\n",
       "0  38.890769         281.44                     4450.0  ...            0   \n",
       "\n",
       "   City_Mason Neck  City_Mclean  City_North Springfield  City_Oak Hill  \\\n",
       "0                0            0                       0              0   \n",
       "\n",
       "   City_Oakton  City_Reston  City_Springfield  City_Vienna  \\\n",
       "0            0            0                 0            0   \n",
       "\n",
       "   City_West Springfield  \n",
       "0                      0  \n",
       "\n",
       "[1 rows x 35 columns]"
      ]
     },
     "execution_count": 63,
     "metadata": {},
     "output_type": "execute_result"
    }
   ],
   "source": [
    " # Convert categorical data to numeric with `pd.get_dummies`\n",
    "df = pd.get_dummies(Final_df)\n",
    "df.head(1) "
   ]
  },
  {
   "cell_type": "code",
   "execution_count": 58,
   "id": "960f0170",
   "metadata": {},
   "outputs": [
    {
     "data": {
      "text/html": [
       "<div>\n",
       "<style scoped>\n",
       "    .dataframe tbody tr th:only-of-type {\n",
       "        vertical-align: middle;\n",
       "    }\n",
       "\n",
       "    .dataframe tbody tr th {\n",
       "        vertical-align: top;\n",
       "    }\n",
       "\n",
       "    .dataframe thead th {\n",
       "        text-align: right;\n",
       "    }\n",
       "</style>\n",
       "<table border=\"1\" class=\"dataframe\">\n",
       "  <thead>\n",
       "    <tr style=\"text-align: right;\">\n",
       "      <th></th>\n",
       "      <th>Sold_Price</th>\n",
       "      <th>City</th>\n",
       "      <th>Bedrooms</th>\n",
       "      <th>full_bath</th>\n",
       "      <th>half_bath</th>\n",
       "      <th>month</th>\n",
       "      <th>year</th>\n",
       "      <th>Lon</th>\n",
       "      <th>Lat</th>\n",
       "      <th>Cost_per_sqft</th>\n",
       "      <th>Above_Grade_Finished_sqft</th>\n",
       "      <th>Year_Built</th>\n",
       "    </tr>\n",
       "  </thead>\n",
       "  <tbody>\n",
       "    <tr>\n",
       "      <th>0</th>\n",
       "      <td>1252430.0</td>\n",
       "      <td>Herndon</td>\n",
       "      <td>4</td>\n",
       "      <td>4</td>\n",
       "      <td>1</td>\n",
       "      <td>4</td>\n",
       "      <td>2019</td>\n",
       "      <td>-77.348283</td>\n",
       "      <td>38.890769</td>\n",
       "      <td>281.44</td>\n",
       "      <td>4450.0</td>\n",
       "      <td>2019.0</td>\n",
       "    </tr>\n",
       "    <tr>\n",
       "      <th>1</th>\n",
       "      <td>950000.0</td>\n",
       "      <td>Vienna</td>\n",
       "      <td>4</td>\n",
       "      <td>3</td>\n",
       "      <td>1</td>\n",
       "      <td>5</td>\n",
       "      <td>2019</td>\n",
       "      <td>-77.265944</td>\n",
       "      <td>38.945249</td>\n",
       "      <td>416.30</td>\n",
       "      <td>2282.0</td>\n",
       "      <td>1969.0</td>\n",
       "    </tr>\n",
       "    <tr>\n",
       "      <th>3</th>\n",
       "      <td>1070000.0</td>\n",
       "      <td>Vienna</td>\n",
       "      <td>5</td>\n",
       "      <td>3</td>\n",
       "      <td>1</td>\n",
       "      <td>4</td>\n",
       "      <td>2021</td>\n",
       "      <td>-77.265944</td>\n",
       "      <td>38.945249</td>\n",
       "      <td>468.89</td>\n",
       "      <td>2282.0</td>\n",
       "      <td>1969.0</td>\n",
       "    </tr>\n",
       "    <tr>\n",
       "      <th>5</th>\n",
       "      <td>685000.0</td>\n",
       "      <td>Springfield</td>\n",
       "      <td>5</td>\n",
       "      <td>3</td>\n",
       "      <td>0</td>\n",
       "      <td>6</td>\n",
       "      <td>2019</td>\n",
       "      <td>-77.221291</td>\n",
       "      <td>38.788632</td>\n",
       "      <td>457.58</td>\n",
       "      <td>1497.0</td>\n",
       "      <td>1967.0</td>\n",
       "    </tr>\n",
       "    <tr>\n",
       "      <th>6</th>\n",
       "      <td>966410.0</td>\n",
       "      <td>Alexandria</td>\n",
       "      <td>5</td>\n",
       "      <td>4</td>\n",
       "      <td>0</td>\n",
       "      <td>6</td>\n",
       "      <td>2019</td>\n",
       "      <td>-77.348283</td>\n",
       "      <td>38.890769</td>\n",
       "      <td>353.74</td>\n",
       "      <td>2732.0</td>\n",
       "      <td>2019.0</td>\n",
       "    </tr>\n",
       "  </tbody>\n",
       "</table>\n",
       "</div>"
      ],
      "text/plain": [
       "   Sold_Price         City  Bedrooms  full_bath  half_bath  month  year  \\\n",
       "0   1252430.0      Herndon         4          4          1      4  2019   \n",
       "1    950000.0       Vienna         4          3          1      5  2019   \n",
       "3   1070000.0       Vienna         5          3          1      4  2021   \n",
       "5    685000.0  Springfield         5          3          0      6  2019   \n",
       "6    966410.0   Alexandria         5          4          0      6  2019   \n",
       "\n",
       "         Lon        Lat  Cost_per_sqft  Above_Grade_Finished_sqft  Year_Built  \n",
       "0 -77.348283  38.890769         281.44                     4450.0      2019.0  \n",
       "1 -77.265944  38.945249         416.30                     2282.0      1969.0  \n",
       "3 -77.265944  38.945249         468.89                     2282.0      1969.0  \n",
       "5 -77.221291  38.788632         457.58                     1497.0      1967.0  \n",
       "6 -77.348283  38.890769         353.74                     2732.0      2019.0  "
      ]
     },
     "execution_count": 58,
     "metadata": {},
     "output_type": "execute_result"
    }
   ],
   "source": [
    "Final_df.head()"
   ]
  },
  {
   "cell_type": "code",
   "execution_count": 64,
   "id": "5dbfdacd",
   "metadata": {},
   "outputs": [],
   "source": [
    "X= df.drop('Sold_Price', axis = 1).values\n",
    "y = df['Sold_Price'].values"
   ]
  },
  {
   "cell_type": "code",
   "execution_count": 65,
   "id": "ba289188",
   "metadata": {},
   "outputs": [],
   "source": [
    "#Import traain_test_split  from sklearn\n",
    "from sklearn.model_selection import train_test_split"
   ]
  },
  {
   "cell_type": "code",
   "execution_count": 66,
   "id": "210abc43",
   "metadata": {},
   "outputs": [],
   "source": [
    "X_train, X_test, y_train, y_test = train_test_split(X, y, random_state=42)"
   ]
  },
  {
   "cell_type": "code",
   "execution_count": 67,
   "id": "a7ed5cc3",
   "metadata": {},
   "outputs": [],
   "source": [
    "from sklearn.preprocessing import MinMaxScaler"
   ]
  },
  {
   "cell_type": "code",
   "execution_count": 68,
   "id": "778ebc26",
   "metadata": {},
   "outputs": [],
   "source": [
    "scaler = MinMaxScaler()"
   ]
  },
  {
   "cell_type": "code",
   "execution_count": 69,
   "id": "b69fd9a7",
   "metadata": {},
   "outputs": [],
   "source": [
    "X_train = scaler.fit_transform(X_train)"
   ]
  },
  {
   "cell_type": "code",
   "execution_count": 118,
   "id": "12efb64b",
   "metadata": {},
   "outputs": [],
   "source": [
    "X_test_scheled = scaler.transform(X_test)"
   ]
  },
  {
   "cell_type": "code",
   "execution_count": 127,
   "id": "7ed80dab",
   "metadata": {},
   "outputs": [],
   "source": [
    "from tensorflow.keras.models import Sequential\n",
    "from tensorflow.keras.layers import Dense"
   ]
  },
  {
   "cell_type": "code",
   "execution_count": 128,
   "id": "b71ca2a2",
   "metadata": {},
   "outputs": [
    {
     "data": {
      "text/plain": [
       "(23155, 34)"
      ]
     },
     "execution_count": 128,
     "metadata": {},
     "output_type": "execute_result"
    }
   ],
   "source": [
    "X_train.shape"
   ]
  },
  {
   "cell_type": "code",
   "execution_count": 129,
   "id": "6e623477",
   "metadata": {},
   "outputs": [],
   "source": [
    "# Dropout\n",
    "from tensorflow.keras.layers import Dropout"
   ]
  },
  {
   "cell_type": "code",
   "execution_count": 131,
   "id": "d13a9c4d",
   "metadata": {},
   "outputs": [],
   "source": [
    "# Define the model - deep neural net, i.e., the number of input features and hidden nodes for each layer.\n",
    "\n",
    "model = Sequential()\n",
    "\n",
    "# First hidden layer\n",
    "model.add(Dense(units = 80,activation = 'relu'))\n",
    "# Added dropout layer\n",
    "model.add(Dropout(0.2))\n",
    "# Second hidden layer\n",
    "model.add(Dense(units = 60,activation = 'relu'))\n",
    "# Added dropout layer\n",
    "model.add(Dropout(0.2))\n",
    "\n",
    "# Third hidden layer\n",
    "model.add(Dense(units = 60,activation = 'relu'))\n",
    "# Added dropout layer\n",
    "model.add(Dropout(0.2))\n",
    "\n",
    "# Output layer for binary classification problem using sigmoid activation function\n",
    "model.add(Dense(units = 1,activation = \"linear\"))"
   ]
  },
  {
   "cell_type": "code",
   "execution_count": 132,
   "id": "1f666802",
   "metadata": {},
   "outputs": [],
   "source": [
    "#  ValueError: Input 0 of layer \"sequential_2\" is incompatible with the layer: expected shape=(None, 43),\n",
    "#             found shape=(None, 34)"
   ]
  },
  {
   "cell_type": "code",
   "execution_count": null,
   "id": "4c1a4f9e",
   "metadata": {},
   "outputs": [],
   "source": [
    "# https://towardsdatascience.com/deep-learning-which-loss-and-activation-functions-should-i-use-ac02f1c56aa8"
   ]
  },
  {
   "cell_type": "code",
   "execution_count": 133,
   "id": "3ec91ab6",
   "metadata": {},
   "outputs": [],
   "source": [
    "# model = Sequential()\n",
    "# model.add(Dense(102, activation = 'relu'))\n",
    "# model.add(Dense(90, activation = 'relu'))\n",
    "# model.add(Dense(78, activation = 'relu'))\n",
    "# # Output layer\n",
    "# model.add(Dense(1,activation = 'linear'))\n",
    "model.compile(optimizer = 'adam', loss = 'mse')"
   ]
  },
  {
   "cell_type": "code",
   "execution_count": null,
   "id": "8a8935e3",
   "metadata": {
    "scrolled": true
   },
   "outputs": [
    {
     "name": "stdout",
     "output_type": "stream",
     "text": [
      "Epoch 1/1000\n",
      "724/724 [==============================] - 2s 2ms/step - loss: 63461584896.0000 - val_loss: 256152272896.0000\n",
      "Epoch 2/1000\n",
      "724/724 [==============================] - 2s 2ms/step - loss: 69013118976.0000 - val_loss: 254801068032.0000\n",
      "Epoch 3/1000\n",
      "724/724 [==============================] - 2s 2ms/step - loss: 71043350528.0000 - val_loss: 324963303424.0000\n",
      "Epoch 4/1000\n",
      "724/724 [==============================] - 2s 2ms/step - loss: 64671916032.0000 - val_loss: 287820218368.0000\n",
      "Epoch 5/1000\n",
      "724/724 [==============================] - 2s 2ms/step - loss: 65383792640.0000 - val_loss: 255634718720.0000\n",
      "Epoch 6/1000\n",
      "724/724 [==============================] - 2s 2ms/step - loss: 75225055232.0000 - val_loss: 294343311360.0000\n",
      "Epoch 7/1000\n",
      "724/724 [==============================] - 2s 2ms/step - loss: 63273525248.0000 - val_loss: 258133147648.0000\n",
      "Epoch 8/1000\n",
      "724/724 [==============================] - 2s 2ms/step - loss: 65748512768.0000 - val_loss: 256931643392.0000\n",
      "Epoch 9/1000\n",
      "724/724 [==============================] - 2s 2ms/step - loss: 68215496704.0000 - val_loss: 252580331520.0000\n",
      "Epoch 10/1000\n",
      "724/724 [==============================] - 2s 2ms/step - loss: 63669424128.0000 - val_loss: 253849550848.0000\n",
      "Epoch 11/1000\n",
      "724/724 [==============================] - 2s 3ms/step - loss: 91518279680.0000 - val_loss: 251132641280.0000\n",
      "Epoch 12/1000\n",
      "724/724 [==============================] - 2s 2ms/step - loss: 64389001216.0000 - val_loss: 257551269888.0000\n",
      "Epoch 13/1000\n",
      "724/724 [==============================] - 2s 2ms/step - loss: 63885099008.0000 - val_loss: 331115036672.0000\n",
      "Epoch 14/1000\n",
      "724/724 [==============================] - 2s 2ms/step - loss: 68429316096.0000 - val_loss: 289300414464.0000\n",
      "Epoch 15/1000\n",
      "724/724 [==============================] - 2s 2ms/step - loss: 67132866560.0000 - val_loss: 298948132864.0000\n",
      "Epoch 16/1000\n",
      "724/724 [==============================] - 2s 2ms/step - loss: 63861862400.0000 - val_loss: 254319214592.0000\n",
      "Epoch 17/1000\n",
      "724/724 [==============================] - 2s 2ms/step - loss: 67268427776.0000 - val_loss: 253126311936.0000\n",
      "Epoch 18/1000\n",
      "724/724 [==============================] - 2s 2ms/step - loss: 64342622208.0000 - val_loss: 258197012480.0000\n",
      "Epoch 19/1000\n",
      "724/724 [==============================] - 2s 2ms/step - loss: 61660348416.0000 - val_loss: 258963750912.0000\n",
      "Epoch 20/1000\n",
      "724/724 [==============================] - 2s 3ms/step - loss: 64569516032.0000 - val_loss: 300169134080.0000\n",
      "Epoch 21/1000\n",
      "724/724 [==============================] - 2s 2ms/step - loss: 67967266816.0000 - val_loss: 251114078208.0000\n",
      "Epoch 22/1000\n",
      "724/724 [==============================] - 2s 2ms/step - loss: 70372352000.0000 - val_loss: 253830676480.0000\n",
      "Epoch 23/1000\n",
      "724/724 [==============================] - 2s 2ms/step - loss: 64535838720.0000 - val_loss: 255629164544.0000\n",
      "Epoch 24/1000\n",
      "724/724 [==============================] - 2s 2ms/step - loss: 67013042176.0000 - val_loss: 253783310336.0000\n",
      "Epoch 25/1000\n",
      "724/724 [==============================] - 2s 2ms/step - loss: 66278408192.0000 - val_loss: 256856064000.0000\n",
      "Epoch 26/1000\n",
      "724/724 [==============================] - 2s 2ms/step - loss: 63337054208.0000 - val_loss: 330088644608.0000\n",
      "Epoch 27/1000\n",
      "724/724 [==============================] - 2s 2ms/step - loss: 66462822400.0000 - val_loss: 295404240896.0000\n",
      "Epoch 28/1000\n",
      "724/724 [==============================] - 2s 2ms/step - loss: 74100482048.0000 - val_loss: 258023112704.0000\n",
      "Epoch 29/1000\n",
      "724/724 [==============================] - 2s 2ms/step - loss: 74660806656.0000 - val_loss: 252282863616.0000\n",
      "Epoch 30/1000\n",
      "724/724 [==============================] - 2s 2ms/step - loss: 64296669184.0000 - val_loss: 251517222912.0000\n",
      "Epoch 31/1000\n",
      "724/724 [==============================] - 2s 2ms/step - loss: 65132134400.0000 - val_loss: 325013569536.0000\n",
      "Epoch 32/1000\n",
      "724/724 [==============================] - 2s 2ms/step - loss: 70058352640.0000 - val_loss: 257434271744.0000\n",
      "Epoch 33/1000\n",
      "724/724 [==============================] - 2s 2ms/step - loss: 78454906880.0000 - val_loss: 254193926144.0000\n",
      "Epoch 34/1000\n",
      "724/724 [==============================] - 2s 2ms/step - loss: 64533749760.0000 - val_loss: 255611076608.0000\n",
      "Epoch 35/1000\n",
      "724/724 [==============================] - 2s 2ms/step - loss: 64511647744.0000 - val_loss: 251370307584.0000\n",
      "Epoch 36/1000\n",
      "724/724 [==============================] - 2s 2ms/step - loss: 64624365568.0000 - val_loss: 252884484096.0000\n",
      "Epoch 37/1000\n",
      "724/724 [==============================] - 2s 2ms/step - loss: 66064146432.0000 - val_loss: 262635945984.0000\n",
      "Epoch 38/1000\n",
      "724/724 [==============================] - 2s 2ms/step - loss: 66195599360.0000 - val_loss: 252119154688.0000\n",
      "Epoch 39/1000\n",
      "724/724 [==============================] - 2s 2ms/step - loss: 69564932096.0000 - val_loss: 260482891776.0000\n",
      "Epoch 40/1000\n",
      "724/724 [==============================] - 2s 3ms/step - loss: 65397149696.0000 - val_loss: 251910307840.0000\n",
      "Epoch 41/1000\n",
      "724/724 [==============================] - 2s 3ms/step - loss: 61530714112.0000 - val_loss: 255110430720.0000\n",
      "Epoch 42/1000\n",
      "724/724 [==============================] - 2s 2ms/step - loss: 72836046848.0000 - val_loss: 262542655488.0000\n",
      "Epoch 43/1000\n",
      "724/724 [==============================] - 2s 2ms/step - loss: 62551240704.0000 - val_loss: 250992623616.0000\n",
      "Epoch 44/1000\n",
      "724/724 [==============================] - 2s 3ms/step - loss: 62264127488.0000 - val_loss: 263720878080.0000\n",
      "Epoch 45/1000\n",
      "724/724 [==============================] - 2s 2ms/step - loss: 65063936000.0000 - val_loss: 253429202944.0000\n",
      "Epoch 46/1000\n",
      "724/724 [==============================] - 2s 2ms/step - loss: 80604749824.0000 - val_loss: 250935623680.0000\n",
      "Epoch 47/1000\n",
      "724/724 [==============================] - 2s 2ms/step - loss: 62966976512.0000 - val_loss: 251098447872.0000\n",
      "Epoch 48/1000\n",
      "724/724 [==============================] - 2s 3ms/step - loss: 61123391488.0000 - val_loss: 252325036032.0000\n",
      "Epoch 49/1000\n",
      "724/724 [==============================] - 2s 2ms/step - loss: 61530439680.0000 - val_loss: 251183890432.0000\n",
      "Epoch 50/1000\n",
      "724/724 [==============================] - 2s 3ms/step - loss: 70784270336.0000 - val_loss: 254272241664.0000\n",
      "Epoch 51/1000\n",
      "724/724 [==============================] - 2s 2ms/step - loss: 66115756032.0000 - val_loss: 256295403520.0000\n",
      "Epoch 52/1000\n",
      "724/724 [==============================] - 2s 2ms/step - loss: 61545619456.0000 - val_loss: 277785739264.0000\n",
      "Epoch 53/1000\n",
      "724/724 [==============================] - 2s 2ms/step - loss: 63891566592.0000 - val_loss: 286838161408.0000\n",
      "Epoch 54/1000\n",
      "724/724 [==============================] - 2s 2ms/step - loss: 67781283840.0000 - val_loss: 258852126720.0000\n",
      "Epoch 55/1000\n",
      "724/724 [==============================] - 2s 2ms/step - loss: 65987551232.0000 - val_loss: 255692406784.0000\n",
      "Epoch 56/1000\n",
      "724/724 [==============================] - 2s 2ms/step - loss: 64726282240.0000 - val_loss: 264485928960.0000\n",
      "Epoch 57/1000\n",
      "724/724 [==============================] - 2s 2ms/step - loss: 63938924544.0000 - val_loss: 251324989440.0000\n",
      "Epoch 58/1000\n",
      "724/724 [==============================] - 2s 2ms/step - loss: 69208449024.0000 - val_loss: 252110684160.0000\n",
      "Epoch 59/1000\n",
      "724/724 [==============================] - 2s 3ms/step - loss: 63699054592.0000 - val_loss: 254114545664.0000\n",
      "Epoch 60/1000\n",
      "724/724 [==============================] - 2s 2ms/step - loss: 64316776448.0000 - val_loss: 251796078592.0000\n",
      "Epoch 61/1000\n",
      "724/724 [==============================] - 2s 2ms/step - loss: 63115898880.0000 - val_loss: 273414537216.0000\n",
      "Epoch 62/1000\n",
      "724/724 [==============================] - 2s 2ms/step - loss: 61702873088.0000 - val_loss: 255303958528.0000\n",
      "Epoch 63/1000\n",
      "724/724 [==============================] - 2s 2ms/step - loss: 65462161408.0000 - val_loss: 251542814720.0000\n",
      "Epoch 64/1000\n",
      "724/724 [==============================] - 2s 3ms/step - loss: 64097939456.0000 - val_loss: 251184889856.0000\n",
      "Epoch 65/1000\n",
      "724/724 [==============================] - 2s 2ms/step - loss: 62065664000.0000 - val_loss: 251622375424.0000\n",
      "Epoch 66/1000\n",
      "724/724 [==============================] - 2s 2ms/step - loss: 66966114304.0000 - val_loss: 251001634816.0000\n",
      "Epoch 67/1000\n"
     ]
    },
    {
     "name": "stdout",
     "output_type": "stream",
     "text": [
      "724/724 [==============================] - 2s 2ms/step - loss: 71125770240.0000 - val_loss: 263100891136.0000\n",
      "Epoch 68/1000\n",
      "724/724 [==============================] - 2s 2ms/step - loss: 67997728768.0000 - val_loss: 276414300160.0000\n",
      "Epoch 69/1000\n",
      "724/724 [==============================] - 2s 2ms/step - loss: 72990621696.0000 - val_loss: 270872313856.0000\n",
      "Epoch 70/1000\n",
      "724/724 [==============================] - 2s 2ms/step - loss: 62907752448.0000 - val_loss: 251321483264.0000\n",
      "Epoch 71/1000\n",
      "724/724 [==============================] - 2s 2ms/step - loss: 65155039232.0000 - val_loss: 264587460608.0000\n",
      "Epoch 72/1000\n",
      "724/724 [==============================] - 2s 2ms/step - loss: 60870090752.0000 - val_loss: 271023128576.0000\n",
      "Epoch 73/1000\n",
      "724/724 [==============================] - 2s 2ms/step - loss: 62791946240.0000 - val_loss: 256198426624.0000\n",
      "Epoch 74/1000\n",
      "724/724 [==============================] - 2s 3ms/step - loss: 63111401472.0000 - val_loss: 309015511040.0000\n",
      "Epoch 75/1000\n",
      "724/724 [==============================] - 2s 2ms/step - loss: 64423194624.0000 - val_loss: 251446247424.0000\n",
      "Epoch 76/1000\n",
      "724/724 [==============================] - 2s 2ms/step - loss: 65975570432.0000 - val_loss: 290838478848.0000\n",
      "Epoch 77/1000\n",
      "724/724 [==============================] - 2s 3ms/step - loss: 72149917696.0000 - val_loss: 252082094080.0000\n",
      "Epoch 78/1000\n",
      "724/724 [==============================] - 2s 3ms/step - loss: 62087446528.0000 - val_loss: 278916202496.0000\n",
      "Epoch 79/1000\n",
      "724/724 [==============================] - 2s 2ms/step - loss: 63134400512.0000 - val_loss: 324215439360.0000\n",
      "Epoch 80/1000\n",
      "724/724 [==============================] - 2s 2ms/step - loss: 63849074688.0000 - val_loss: 326295650304.0000\n",
      "Epoch 81/1000\n",
      "724/724 [==============================] - 2s 2ms/step - loss: 73122996224.0000 - val_loss: 329986965504.0000\n",
      "Epoch 82/1000\n",
      "724/724 [==============================] - 2s 2ms/step - loss: 62621708288.0000 - val_loss: 253053894656.0000\n",
      "Epoch 83/1000\n",
      "724/724 [==============================] - 2s 2ms/step - loss: 61735165952.0000 - val_loss: 251277639680.0000\n",
      "Epoch 84/1000\n",
      "724/724 [==============================] - 2s 2ms/step - loss: 64045817856.0000 - val_loss: 325063376896.0000\n",
      "Epoch 85/1000\n",
      "724/724 [==============================] - 2s 2ms/step - loss: 61963685888.0000 - val_loss: 250995589120.0000\n",
      "Epoch 86/1000\n",
      "724/724 [==============================] - 2s 2ms/step - loss: 64740683776.0000 - val_loss: 254281170944.0000\n",
      "Epoch 87/1000\n",
      "724/724 [==============================] - 2s 2ms/step - loss: 65306763264.0000 - val_loss: 251064434688.0000\n",
      "Epoch 88/1000\n",
      "724/724 [==============================] - 2s 2ms/step - loss: 60558684160.0000 - val_loss: 250794491904.0000\n",
      "Epoch 89/1000\n",
      "724/724 [==============================] - 2s 2ms/step - loss: 61891932160.0000 - val_loss: 255741460480.0000\n",
      "Epoch 90/1000\n",
      "724/724 [==============================] - 2s 2ms/step - loss: 63546793984.0000 - val_loss: 254520213504.0000\n",
      "Epoch 91/1000\n",
      "724/724 [==============================] - 2s 2ms/step - loss: 64293863424.0000 - val_loss: 254580654080.0000\n",
      "Epoch 92/1000\n",
      "724/724 [==============================] - 2s 2ms/step - loss: 66166419456.0000 - val_loss: 257918271488.0000\n",
      "Epoch 93/1000\n",
      "724/724 [==============================] - 2s 2ms/step - loss: 64184930304.0000 - val_loss: 255201968128.0000\n",
      "Epoch 94/1000\n",
      "724/724 [==============================] - 2s 2ms/step - loss: 67552161792.0000 - val_loss: 254867947520.0000\n",
      "Epoch 95/1000\n",
      "724/724 [==============================] - 2s 3ms/step - loss: 64525152256.0000 - val_loss: 251729494016.0000\n",
      "Epoch 96/1000\n",
      "724/724 [==============================] - 2s 2ms/step - loss: 72371994624.0000 - val_loss: 272752836608.0000\n",
      "Epoch 97/1000\n",
      "724/724 [==============================] - 2s 2ms/step - loss: 70366511104.0000 - val_loss: 286170775552.0000\n",
      "Epoch 98/1000\n",
      "724/724 [==============================] - 2s 2ms/step - loss: 61285830656.0000 - val_loss: 267681021952.0000\n",
      "Epoch 99/1000\n",
      "724/724 [==============================] - 2s 2ms/step - loss: 77154910208.0000 - val_loss: 273718984704.0000\n",
      "Epoch 100/1000\n",
      "724/724 [==============================] - 2s 3ms/step - loss: 62058618880.0000 - val_loss: 263820476416.0000\n",
      "Epoch 101/1000\n",
      "724/724 [==============================] - 2s 2ms/step - loss: 67081637888.0000 - val_loss: 255084806144.0000\n",
      "Epoch 102/1000\n",
      "724/724 [==============================] - 2s 2ms/step - loss: 62299815936.0000 - val_loss: 251195064320.0000\n",
      "Epoch 103/1000\n",
      "724/724 [==============================] - 2s 2ms/step - loss: 65723973632.0000 - val_loss: 252426485760.0000\n",
      "Epoch 104/1000\n",
      "724/724 [==============================] - 2s 2ms/step - loss: 70802825216.0000 - val_loss: 283774812160.0000\n",
      "Epoch 105/1000\n",
      "724/724 [==============================] - 2s 2ms/step - loss: 64654286848.0000 - val_loss: 253419323392.0000\n",
      "Epoch 106/1000\n",
      "724/724 [==============================] - 2s 2ms/step - loss: 62374428672.0000 - val_loss: 260248616960.0000\n",
      "Epoch 107/1000\n",
      "724/724 [==============================] - 2s 2ms/step - loss: 67578048512.0000 - val_loss: 291435577344.0000\n",
      "Epoch 108/1000\n",
      "724/724 [==============================] - 2s 2ms/step - loss: 64254898176.0000 - val_loss: 251230339072.0000\n",
      "Epoch 109/1000\n",
      "724/724 [==============================] - 2s 2ms/step - loss: 64579837952.0000 - val_loss: 251216265216.0000\n",
      "Epoch 110/1000\n",
      "724/724 [==============================] - 2s 3ms/step - loss: 62867079168.0000 - val_loss: 255410880512.0000\n",
      "Epoch 111/1000\n",
      "724/724 [==============================] - 2s 2ms/step - loss: 65708474368.0000 - val_loss: 251094761472.0000\n",
      "Epoch 112/1000\n",
      "724/724 [==============================] - 2s 2ms/step - loss: 67301740544.0000 - val_loss: 266167435264.0000\n",
      "Epoch 113/1000\n",
      "724/724 [==============================] - 2s 2ms/step - loss: 66433839104.0000 - val_loss: 257258586112.0000\n",
      "Epoch 114/1000\n",
      "724/724 [==============================] - 2s 2ms/step - loss: 69018918912.0000 - val_loss: 255484067840.0000\n",
      "Epoch 115/1000\n",
      "724/724 [==============================] - 2s 2ms/step - loss: 71051968512.0000 - val_loss: 254065885184.0000\n",
      "Epoch 116/1000\n",
      "724/724 [==============================] - 2s 2ms/step - loss: 64618475520.0000 - val_loss: 251260731392.0000\n",
      "Epoch 117/1000\n",
      "724/724 [==============================] - 2s 2ms/step - loss: 63320956928.0000 - val_loss: 255023579136.0000\n",
      "Epoch 118/1000\n",
      "724/724 [==============================] - 2s 2ms/step - loss: 62600736768.0000 - val_loss: 252808970240.0000\n",
      "Epoch 119/1000\n",
      "724/724 [==============================] - 2s 2ms/step - loss: 68175736832.0000 - val_loss: 251607318528.0000\n",
      "Epoch 120/1000\n",
      "724/724 [==============================] - 2s 2ms/step - loss: 67919654912.0000 - val_loss: 256698417152.0000\n",
      "Epoch 121/1000\n",
      "724/724 [==============================] - 2s 2ms/step - loss: 63533953024.0000 - val_loss: 251643265024.0000\n",
      "Epoch 122/1000\n",
      "724/724 [==============================] - 2s 2ms/step - loss: 64550866944.0000 - val_loss: 251398324224.0000\n",
      "Epoch 123/1000\n",
      "724/724 [==============================] - 2s 2ms/step - loss: 65675165696.0000 - val_loss: 256529432576.0000\n",
      "Epoch 124/1000\n",
      "724/724 [==============================] - 2s 3ms/step - loss: 62319132672.0000 - val_loss: 258094268416.0000\n",
      "Epoch 125/1000\n",
      "724/724 [==============================] - 2s 3ms/step - loss: 70663610368.0000 - val_loss: 260394352640.0000\n",
      "Epoch 126/1000\n",
      "724/724 [==============================] - 2s 2ms/step - loss: 65636438016.0000 - val_loss: 321055752192.0000\n",
      "Epoch 127/1000\n",
      "724/724 [==============================] - 2s 2ms/step - loss: 66918281216.0000 - val_loss: 280927535104.0000\n",
      "Epoch 128/1000\n",
      "724/724 [==============================] - 2s 2ms/step - loss: 62689452032.0000 - val_loss: 255285641216.0000\n",
      "Epoch 129/1000\n",
      "724/724 [==============================] - 2s 2ms/step - loss: 71420313600.0000 - val_loss: 324339630080.0000\n",
      "Epoch 130/1000\n",
      "724/724 [==============================] - 2s 2ms/step - loss: 67024896000.0000 - val_loss: 322733080576.0000\n",
      "Epoch 131/1000\n",
      "724/724 [==============================] - 2s 2ms/step - loss: 63993217024.0000 - val_loss: 321076920320.0000\n",
      "Epoch 132/1000\n",
      "724/724 [==============================] - 2s 2ms/step - loss: 61667860480.0000 - val_loss: 320280625152.0000\n"
     ]
    },
    {
     "name": "stdout",
     "output_type": "stream",
     "text": [
      "Epoch 133/1000\n",
      "724/724 [==============================] - 2s 2ms/step - loss: 65289474048.0000 - val_loss: 323218800640.0000\n",
      "Epoch 134/1000\n",
      "724/724 [==============================] - 2s 2ms/step - loss: 67351109632.0000 - val_loss: 326109855744.0000\n",
      "Epoch 135/1000\n",
      "724/724 [==============================] - 2s 2ms/step - loss: 66557784064.0000 - val_loss: 323483205632.0000\n",
      "Epoch 136/1000\n",
      "724/724 [==============================] - 2s 2ms/step - loss: 68233551872.0000 - val_loss: 326451200000.0000\n",
      "Epoch 137/1000\n",
      "724/724 [==============================] - 2s 2ms/step - loss: 67361660928.0000 - val_loss: 325047058432.0000\n",
      "Epoch 138/1000\n",
      "724/724 [==============================] - 2s 2ms/step - loss: 61682114560.0000 - val_loss: 323059777536.0000\n",
      "Epoch 139/1000\n",
      "724/724 [==============================] - 2s 2ms/step - loss: 61883154432.0000 - val_loss: 324640800768.0000\n",
      "Epoch 140/1000\n",
      "724/724 [==============================] - 2s 2ms/step - loss: 64961634304.0000 - val_loss: 327192674304.0000\n",
      "Epoch 141/1000\n",
      "724/724 [==============================] - 2s 2ms/step - loss: 63829979136.0000 - val_loss: 326775144448.0000\n",
      "Epoch 142/1000\n",
      "724/724 [==============================] - 2s 2ms/step - loss: 62465314816.0000 - val_loss: 327154565120.0000\n",
      "Epoch 143/1000\n",
      "724/724 [==============================] - 2s 2ms/step - loss: 62329552896.0000 - val_loss: 252861038592.0000\n",
      "Epoch 144/1000\n",
      "724/724 [==============================] - 2s 2ms/step - loss: 66358276096.0000 - val_loss: 294191267840.0000\n",
      "Epoch 145/1000\n",
      "724/724 [==============================] - 2s 2ms/step - loss: 63713378304.0000 - val_loss: 263285145600.0000\n",
      "Epoch 146/1000\n",
      "724/724 [==============================] - 2s 2ms/step - loss: 61280575488.0000 - val_loss: 259667410944.0000\n",
      "Epoch 147/1000\n",
      "724/724 [==============================] - 2s 2ms/step - loss: 61827100672.0000 - val_loss: 323803119616.0000\n",
      "Epoch 148/1000\n",
      "724/724 [==============================] - 2s 2ms/step - loss: 62895906816.0000 - val_loss: 324448092160.0000\n",
      "Epoch 149/1000\n",
      "724/724 [==============================] - 2s 2ms/step - loss: 71178043392.0000 - val_loss: 324315250688.0000\n",
      "Epoch 150/1000\n",
      "724/724 [==============================] - 2s 2ms/step - loss: 64033882112.0000 - val_loss: 322799239168.0000\n",
      "Epoch 151/1000\n",
      "724/724 [==============================] - 2s 2ms/step - loss: 66587185152.0000 - val_loss: 236387614720.0000\n",
      "Epoch 152/1000\n",
      "724/724 [==============================] - 2s 2ms/step - loss: 62012551168.0000 - val_loss: 324034002944.0000\n",
      "Epoch 153/1000\n",
      "724/724 [==============================] - 2s 2ms/step - loss: 61997391872.0000 - val_loss: 321749549056.0000\n",
      "Epoch 154/1000\n",
      "724/724 [==============================] - 2s 2ms/step - loss: 66040877056.0000 - val_loss: 320217874432.0000\n",
      "Epoch 155/1000\n",
      "724/724 [==============================] - 2s 2ms/step - loss: 64250064896.0000 - val_loss: 306075009024.0000\n",
      "Epoch 156/1000\n",
      "724/724 [==============================] - 2s 2ms/step - loss: 59088232448.0000 - val_loss: 288807092224.0000\n",
      "Epoch 157/1000\n",
      "724/724 [==============================] - 2s 2ms/step - loss: 63077597184.0000 - val_loss: 321188790272.0000\n",
      "Epoch 158/1000\n",
      "724/724 [==============================] - 2s 2ms/step - loss: 63212863488.0000 - val_loss: 286153998336.0000\n",
      "Epoch 159/1000\n",
      "724/724 [==============================] - 2s 2ms/step - loss: 68135284736.0000 - val_loss: 8548354359296.0000\n",
      "Epoch 160/1000\n",
      "724/724 [==============================] - 2s 2ms/step - loss: 63532748800.0000 - val_loss: 4995644653568.0000\n",
      "Epoch 161/1000\n",
      "724/724 [==============================] - 2s 2ms/step - loss: 63452659712.0000 - val_loss: 245106606080.0000\n",
      "Epoch 162/1000\n",
      "724/724 [==============================] - 2s 2ms/step - loss: 61834960896.0000 - val_loss: 2754522120192.0000\n",
      "Epoch 163/1000\n",
      "724/724 [==============================] - 2s 2ms/step - loss: 61594542080.0000 - val_loss: 9308106391552.0000\n",
      "Epoch 164/1000\n",
      "724/724 [==============================] - 2s 2ms/step - loss: 63615770624.0000 - val_loss: 14807665213440.0000\n",
      "Epoch 165/1000\n",
      "724/724 [==============================] - 2s 2ms/step - loss: 61015744512.0000 - val_loss: 22435971727360.0000\n",
      "Epoch 166/1000\n",
      "724/724 [==============================] - 2s 2ms/step - loss: 77695303680.0000 - val_loss: 29872695017472.0000\n",
      "Epoch 167/1000\n",
      "724/724 [==============================] - 2s 2ms/step - loss: 62381588480.0000 - val_loss: 19857600937984.0000\n",
      "Epoch 168/1000\n",
      "724/724 [==============================] - 2s 2ms/step - loss: 59669770240.0000 - val_loss: 20364235112448.0000\n",
      "Epoch 169/1000\n",
      "724/724 [==============================] - 2s 2ms/step - loss: 66764324864.0000 - val_loss: 682411425792.0000\n",
      "Epoch 170/1000\n",
      "724/724 [==============================] - 2s 2ms/step - loss: 73265815552.0000 - val_loss: 6830532067328.0000\n",
      "Epoch 171/1000\n",
      "724/724 [==============================] - 2s 2ms/step - loss: 70705258496.0000 - val_loss: 42153967353856.0000\n",
      "Epoch 172/1000\n",
      "724/724 [==============================] - 2s 2ms/step - loss: 67500642304.0000 - val_loss: 18128622845952.0000\n",
      "Epoch 173/1000\n",
      "724/724 [==============================] - 2s 2ms/step - loss: 74923335680.0000 - val_loss: 390119522304.0000\n",
      "Epoch 174/1000\n",
      "724/724 [==============================] - 2s 2ms/step - loss: 66139840512.0000 - val_loss: 252144484352.0000\n",
      "Epoch 175/1000\n",
      "724/724 [==============================] - 2s 2ms/step - loss: 63295913984.0000 - val_loss: 28561457020928.0000\n",
      "Epoch 176/1000\n",
      "724/724 [==============================] - 2s 2ms/step - loss: 74101956608.0000 - val_loss: 78517261828096.0000\n",
      "Epoch 177/1000\n",
      "724/724 [==============================] - 2s 2ms/step - loss: 66880065536.0000 - val_loss: 69282603991040.0000\n",
      "Epoch 178/1000\n",
      "724/724 [==============================] - 2s 2ms/step - loss: 69252816896.0000 - val_loss: 207568806871040.0000\n",
      "Epoch 179/1000\n",
      "724/724 [==============================] - 2s 2ms/step - loss: 62944358400.0000 - val_loss: 200399600484352.0000\n",
      "Epoch 180/1000\n",
      "724/724 [==============================] - 2s 2ms/step - loss: 65291866112.0000 - val_loss: 287747508011008.0000\n",
      "Epoch 181/1000\n",
      "724/724 [==============================] - 2s 2ms/step - loss: 63539421184.0000 - val_loss: 280367865004032.0000\n",
      "Epoch 182/1000\n",
      "724/724 [==============================] - 2s 2ms/step - loss: 68841316352.0000 - val_loss: 190194758189056.0000\n",
      "Epoch 183/1000\n",
      "724/724 [==============================] - 2s 3ms/step - loss: 80347291648.0000 - val_loss: 194311434010624.0000\n",
      "Epoch 184/1000\n",
      "724/724 [==============================] - 2s 2ms/step - loss: 65781489664.0000 - val_loss: 166507040473088.0000\n",
      "Epoch 185/1000\n",
      "724/724 [==============================] - 2s 2ms/step - loss: 62702559232.0000 - val_loss: 245551215935488.0000\n",
      "Epoch 186/1000\n",
      "724/724 [==============================] - 2s 3ms/step - loss: 63549583360.0000 - val_loss: 181841650778112.0000\n",
      "Epoch 187/1000\n",
      "724/724 [==============================] - 2s 3ms/step - loss: 65612668928.0000 - val_loss: 277796773429248.0000\n",
      "Epoch 188/1000\n",
      "724/724 [==============================] - 2s 2ms/step - loss: 68140634112.0000 - val_loss: 249328237019136.0000\n",
      "Epoch 189/1000\n",
      "724/724 [==============================] - 2s 2ms/step - loss: 62760620032.0000 - val_loss: 457150849613824.0000\n",
      "Epoch 190/1000\n",
      "724/724 [==============================] - 2s 2ms/step - loss: 65004904448.0000 - val_loss: 601203079643136.0000\n",
      "Epoch 191/1000\n",
      "724/724 [==============================] - 2s 3ms/step - loss: 64044908544.0000 - val_loss: 253881640550400.0000\n",
      "Epoch 192/1000\n",
      "724/724 [==============================] - 2s 2ms/step - loss: 64350285824.0000 - val_loss: 169181345480704.0000\n",
      "Epoch 193/1000\n",
      "724/724 [==============================] - 2s 2ms/step - loss: 65848033280.0000 - val_loss: 225110879371264.0000\n"
     ]
    }
   ],
   "source": [
    "model.fit(x =X_train, y = y_train, validation_data = (X_test_scheled, y_test), batch_size = 32, epochs = 1000)"
   ]
  },
  {
   "cell_type": "code",
   "execution_count": null,
   "id": "4bd523dd",
   "metadata": {},
   "outputs": [],
   "source": [
    "losses = pd.DataFrame(model.history.history)"
   ]
  },
  {
   "cell_type": "code",
   "execution_count": null,
   "id": "529fc75e",
   "metadata": {},
   "outputs": [],
   "source": [
    "losses.plot()"
   ]
  },
  {
   "cell_type": "code",
   "execution_count": null,
   "id": "aeb0ea12",
   "metadata": {},
   "outputs": [],
   "source": [
    "from sklearn.metrics import mean_squared_error, mean_absolute_error, explained_variance_score"
   ]
  },
  {
   "cell_type": "code",
   "execution_count": null,
   "id": "891e46a2",
   "metadata": {},
   "outputs": [],
   "source": [
    "predictions = model.predict(X_test)"
   ]
  },
  {
   "cell_type": "code",
   "execution_count": null,
   "id": "47b7a567",
   "metadata": {},
   "outputs": [],
   "source": [
    "predictions"
   ]
  },
  {
   "cell_type": "code",
   "execution_count": null,
   "id": "e29dd878",
   "metadata": {},
   "outputs": [],
   "source": [
    "mean_absolute_error(y_test,predictions)"
   ]
  },
  {
   "cell_type": "code",
   "execution_count": null,
   "id": "9cb576a8",
   "metadata": {},
   "outputs": [],
   "source": [
    "Final_df['Sold_Price'].describe()"
   ]
  },
  {
   "cell_type": "code",
   "execution_count": null,
   "id": "801d593c",
   "metadata": {},
   "outputs": [],
   "source": [
    "explained_variance_score(y_test,predictions)"
   ]
  },
  {
   "cell_type": "code",
   "execution_count": null,
   "id": "7ed25185",
   "metadata": {},
   "outputs": [],
   "source": [
    "plt.scatter(y_test,predictions)\n",
    "plt.plot(y_test,y_test,'r')"
   ]
  },
  {
   "cell_type": "markdown",
   "id": "0eaaad47",
   "metadata": {},
   "source": [
    "# *****Hyperparametrs"
   ]
  },
  {
   "cell_type": "code",
   "execution_count": null,
   "id": "8ef6fed5",
   "metadata": {},
   "outputs": [],
   "source": [
    "# Create a method that creates a new Sequential model with hyperparameter options\n",
    "def create_model(hp):\n",
    "    nn_model = tf.keras.models.Sequential()\n",
    "\n",
    "    # Allow kerastuner to decide which activation function to use in hidden layers\n",
    "    activation = hp.Choice('activation',['relu','tanh','sigmoid'])\n",
    "    \n",
    "    # Allow kerastuner to decide number of neurons in first layer\n",
    "    nn_model.add(tf.keras.layers.Dense(units=hp.Int('first_units',\n",
    "        min_value=1,\n",
    "        max_value=10,\n",
    "        step=2), activation=activation, input_dim=2))\n",
    "\n",
    "    # Allow kerastuner to decide number of hidden layers and neurons in hidden layers\n",
    "    for i in range(hp.Int('num_layers', 1, 6)):\n",
    "        nn_model.add(tf.keras.layers.Dense(units=hp.Int('units_' + str(i),\n",
    "            min_value=1,\n",
    "            max_value=10,\n",
    "            step=2),\n",
    "            activation=activation))\n",
    "    \n",
    "    nn_model.add(tf.keras.layers.Dense(units=1, activation=\"sigmoid\"))\n",
    "\n",
    "    # Compile the model\n",
    "    nn_model.compile(loss=\"binary_crossentropy\", optimizer='adam', metrics=[\"accuracy\"])\n",
    "    \n",
    "    return nn_model"
   ]
  },
  {
   "cell_type": "code",
   "execution_count": null,
   "id": "0ef18268",
   "metadata": {},
   "outputs": [],
   "source": [
    " # Import the kerastuner library\n",
    "import keras_tuner as kt\n",
    "\n",
    "tuner = kt.Hyperband(\n",
    "    create_model,\n",
    "    objective=\"val_accuracy\",\n",
    "    max_epochs=20,\n",
    "    hyperband_iterations=2)"
   ]
  },
  {
   "cell_type": "code",
   "execution_count": null,
   "id": "39f9af15",
   "metadata": {},
   "outputs": [],
   "source": [
    "# Run the kerastuner search for best hyperparameters\n",
    "tuner.search(X_train_scaled,y_train,epochs=20,validation_data=(X_test_scaled,y_test))"
   ]
  },
  {
   "cell_type": "code",
   "execution_count": null,
   "id": "128e43ac",
   "metadata": {},
   "outputs": [],
   "source": [
    " # Get best model hyperparameters\n",
    "best_hyper = tuner.get_best_hyperparameters(1)[0]\n",
    "best_hyper.values"
   ]
  },
  {
   "cell_type": "code",
   "execution_count": null,
   "id": "59f572d4",
   "metadata": {},
   "outputs": [],
   "source": [
    " # Evaluate best model against full test data\n",
    "best_model = tuner.get_best_models(1)[0]\n",
    "model_loss, model_accuracy = best_model.evaluate(X_test_scaled,y_test,verbose=2)\n",
    "print(f\"Loss: {model_loss}, Accuracy: {model_accuracy}\")"
   ]
  },
  {
   "cell_type": "code",
   "execution_count": null,
   "id": "3032b6bf",
   "metadata": {},
   "outputs": [],
   "source": []
  },
  {
   "cell_type": "markdown",
   "id": "340ea306",
   "metadata": {},
   "source": [
    "# *******************************************************"
   ]
  },
  {
   "cell_type": "code",
   "execution_count": null,
   "id": "ec4838fb",
   "metadata": {},
   "outputs": [],
   "source": []
  },
  {
   "cell_type": "code",
   "execution_count": null,
   "id": "0ae7fd0b",
   "metadata": {},
   "outputs": [],
   "source": []
  },
  {
   "cell_type": "code",
   "execution_count": null,
   "id": "c1b6bf15",
   "metadata": {},
   "outputs": [],
   "source": []
  },
  {
   "cell_type": "code",
   "execution_count": null,
   "id": "576649be",
   "metadata": {},
   "outputs": [],
   "source": []
  },
  {
   "cell_type": "code",
   "execution_count": null,
   "id": "74926d3c",
   "metadata": {},
   "outputs": [],
   "source": []
  },
  {
   "cell_type": "code",
   "execution_count": null,
   "id": "e7b2e3c0",
   "metadata": {},
   "outputs": [],
   "source": []
  },
  {
   "cell_type": "code",
   "execution_count": null,
   "id": "ec2d615d",
   "metadata": {},
   "outputs": [],
   "source": []
  },
  {
   "cell_type": "code",
   "execution_count": null,
   "id": "68cbc79e",
   "metadata": {},
   "outputs": [],
   "source": [
    "# Define the model - deep neural net, i.e., the number of input features and hidden nodes for each layer.\n",
    "\n",
    "model = Sequential()\n",
    "\n",
    "# First hidden layer\n",
    "model.add(Dense(units = 80,activation = 'relu', input_dim = 43, name = 'layer1'))\n",
    "# Added dropout layer\n",
    "model.add(Dropout(0.5))\n",
    "# Second hidden layer\n",
    "model.add(Dense(units = 60,activation = 'relu', name = 'layer2'))\n",
    "# Added dropout layer\n",
    "model.add(Dropout(0.5))\n",
    "\n",
    "# Third hidden layer\n",
    "model.add(Dense(units = 60,activation = 'relu', name = 'layer3'))\n",
    "# Added dropout layer\n",
    "model.add(Dropout(0.5))\n",
    "\n",
    "# Output layer for binary classification problem using sigmoid activation function\n",
    "model.add(Dense(units = 1,activation = \"linear\"))"
   ]
  },
  {
   "cell_type": "code",
   "execution_count": null,
   "id": "ccab23be",
   "metadata": {},
   "outputs": [],
   "source": []
  },
  {
   "cell_type": "code",
   "execution_count": null,
   "id": "6dee1e64",
   "metadata": {},
   "outputs": [],
   "source": []
  },
  {
   "cell_type": "code",
   "execution_count": null,
   "id": "81c11741",
   "metadata": {},
   "outputs": [],
   "source": []
  },
  {
   "cell_type": "code",
   "execution_count": null,
   "id": "648dd653",
   "metadata": {},
   "outputs": [],
   "source": []
  },
  {
   "cell_type": "code",
   "execution_count": null,
   "id": "4ee8c58f",
   "metadata": {},
   "outputs": [],
   "source": [
    "# Import our dependencies\n",
    "from sklearn.model_selection import train_test_split\n",
    "from sklearn.preprocessing import StandardScaler\n",
    "from sklearn.metrics import accuracy_score\n",
    "import tensorflow as tf\n",
    "from tensorflow.keras import layers\n",
    "from sklearn.metrics import classification_report\n",
    "from sklearn.preprocessing import StandardScaler"
   ]
  },
  {
   "cell_type": "markdown",
   "id": "878913a0",
   "metadata": {},
   "source": [
    "# Encode the categorical variables from the features data using get_dummies."
   ]
  },
  {
   "cell_type": "code",
   "execution_count": null,
   "id": "8c70b099",
   "metadata": {},
   "outputs": [],
   "source": [
    "#  # Convert categorical data to numeric with `pd.get_dummies`\n",
    "# scaled_df = pd.get_dummies(df)"
   ]
  },
  {
   "cell_type": "code",
   "execution_count": null,
   "id": "038329c3",
   "metadata": {},
   "outputs": [],
   "source": [
    "# # # Review the features data\n",
    "# scaled_df.head(2)"
   ]
  },
  {
   "cell_type": "markdown",
   "id": "125ee6db",
   "metadata": {},
   "source": [
    "# Separate the features X from the target y"
   ]
  },
  {
   "cell_type": "code",
   "execution_count": null,
   "id": "7525dd27",
   "metadata": {},
   "outputs": [],
   "source": [
    "# # Split our preprocessed data into our features and target arrays\n",
    "X= df.drop(['Sold_Price'], axis = 1).values\n",
    "y= df['Sold_Price'].values"
   ]
  },
  {
   "cell_type": "markdown",
   "id": "6bebe9fe",
   "metadata": {},
   "source": [
    "# Separate the data into training and testing subsets."
   ]
  },
  {
   "cell_type": "code",
   "execution_count": null,
   "id": "31089996",
   "metadata": {},
   "outputs": [],
   "source": [
    "# Split the preprocessed data into a training and testing dataset\n",
    "X_train, X_test, y_train, y_test = train_test_split(X, y, test_size = 0.26, random_state=1)"
   ]
  },
  {
   "cell_type": "markdown",
   "id": "ce3c2646",
   "metadata": {},
   "source": [
    "# Scale the data using StandardScaler"
   ]
  },
  {
   "cell_type": "code",
   "execution_count": null,
   "id": "9c8e5fc1",
   "metadata": {},
   "outputs": [],
   "source": [
    "# # Instantiate a StandardScaler instance\n",
    "scaler = StandardScaler()\n",
    "\n",
    "# Fit the training data to the standard scaler\n",
    "X_scaler = scaler.fit(X_train)\n",
    "\n",
    "# Transform the training data using the scaler\n",
    "X_train_scaled = X_scaler.transform(X_train)\n",
    "\n",
    "# Transform the testing data using the scaler\n",
    "X_test_scaled = X_scaler.transform(X_test)"
   ]
  },
  {
   "cell_type": "markdown",
   "id": "7a5e4234",
   "metadata": {},
   "source": [
    "# Compile, Train and Evaluate the Model"
   ]
  },
  {
   "cell_type": "code",
   "execution_count": null,
   "id": "b108501d",
   "metadata": {},
   "outputs": [],
   "source": [
    "#https://www.v7labs.com/blog/neural-networks-activation-functions\n",
    "# https://towardsdatascience.com/how-to-choose-the-right-activation-function-for-neural-networks-3941ff0e6f9c"
   ]
  },
  {
   "cell_type": "code",
   "execution_count": null,
   "id": "ced40b80",
   "metadata": {},
   "outputs": [],
   "source": [
    "from tensorflow.keras.models import Sequential\n",
    "from tensorflow.keras.layers import Dense"
   ]
  },
  {
   "cell_type": "code",
   "execution_count": null,
   "id": "35e813bc",
   "metadata": {},
   "outputs": [],
   "source": [
    "# # # Define the model - deep neural net, i.e., the number of input features and hidden nodes for each layer.\n",
    "\n",
    "model = Sequential()\n",
    "\n",
    "# # First hidden layer\n",
    "# model.add(Dense(units = 80, activation = 'relu', input_dim = len(X_train[0])))\n",
    "\n",
    "# # Second hidden layer\n",
    "# model.add(Dense(units = 60, activation = 'relu'))\n",
    "# # Third hidden layer\n",
    "# model.add(Dense(units = 60, activation = 'relu'))\n",
    "\n",
    "# # Output layer for binary classification problem using sigmoid activation function\n",
    "# model.add(Dense(units = 1, activation = \"linear\"))\n",
    "\n",
    "# # Check the structure of the model\n",
    "# model.summary()"
   ]
  },
  {
   "cell_type": "code",
   "execution_count": null,
   "id": "ace8b483",
   "metadata": {},
   "outputs": [],
   "source": [
    "model.add( Dense( 19, activation='relu' ))\n",
    "model.add( Dense( 19, activation='relu' ))\n",
    "model.add( Dense( 19, activation='relu' ))\n",
    "model.add( Dense( 19, activation='relu' ))\n",
    "model.add( Dense( 1 ))\n",
    "\n",
    "model.compile( optimizer='adam', loss='mse' )"
   ]
  },
  {
   "cell_type": "code",
   "execution_count": null,
   "id": "051b3c89",
   "metadata": {
    "scrolled": true
   },
   "outputs": [],
   "source": [
    "model.fit( x=X_train, y=y_train, \n",
    "          validation_data=( X_test, y_test), \n",
    "          batch_size=128, epochs=700 )"
   ]
  },
  {
   "cell_type": "code",
   "execution_count": null,
   "id": "6d042c41",
   "metadata": {},
   "outputs": [],
   "source": [
    "losses = pd.DataFrame(model.history.history)"
   ]
  },
  {
   "cell_type": "code",
   "execution_count": null,
   "id": "daf8927d",
   "metadata": {},
   "outputs": [],
   "source": [
    "losses.plot()"
   ]
  },
  {
   "cell_type": "code",
   "execution_count": null,
   "id": "58f62d93",
   "metadata": {},
   "outputs": [],
   "source": [
    "from sklearn.metrics import mean_squared_error,mean_absolute_error,explained_variance_score"
   ]
  },
  {
   "cell_type": "code",
   "execution_count": null,
   "id": "515c8f04",
   "metadata": {},
   "outputs": [],
   "source": [
    "predictions = model.predict(X_test)"
   ]
  },
  {
   "cell_type": "code",
   "execution_count": null,
   "id": "9d8907aa",
   "metadata": {},
   "outputs": [],
   "source": [
    "mean_absolute_error(y_test, predictions)"
   ]
  },
  {
   "cell_type": "code",
   "execution_count": null,
   "id": "c11aab98",
   "metadata": {},
   "outputs": [],
   "source": [
    "# Our predictions\n",
    "plt.scatter(y_test,predictions)\n",
    "# Perfect predictions\n",
    "plt.plot(y_test,y_test,'r')"
   ]
  },
  {
   "cell_type": "code",
   "execution_count": null,
   "id": "e4e4e71f",
   "metadata": {},
   "outputs": [],
   "source": [
    "# Dropout\n",
    "from tensorflow.keras.layers import Dropout"
   ]
  },
  {
   "cell_type": "code",
   "execution_count": null,
   "id": "389e939d",
   "metadata": {},
   "outputs": [],
   "source": [
    "# Define the model - deep neural net, i.e., the number of input features and hidden nodes for each layer.\n",
    "\n",
    "model = Sequential()\n",
    "\n",
    "# First hidden layer\n",
    "model.add(Dense(units = 80,activation = 'relu', input_dim = 43, name = 'layer1'))\n",
    "# Added dropout layer\n",
    "model.add(Dropout(0.5))\n",
    "# Second hidden layer\n",
    "model.add(Dense(units = 60,activation = 'relu', name = 'layer2'))\n",
    "# Added dropout layer\n",
    "model.add(Dropout(0.5))\n",
    "\n",
    "# Third hidden layer\n",
    "model.add(Dense(units = 60,activation = 'relu', name = 'layer3'))\n",
    "# Added dropout layer\n",
    "model.add(Dropout(0.5))\n",
    "\n",
    "# Output layer for binary classification problem using sigmoid activation function\n",
    "model.add(Dense(units = 1,activation = \"linear\"))\n",
    "# # Compile the model\n",
    "# model.compile(loss=\"binary_crossentropy\", optimizer=\"adam\", metrics=[\"accuracy\"])"
   ]
  },
  {
   "cell_type": "code",
   "execution_count": null,
   "id": "f8339406",
   "metadata": {},
   "outputs": [],
   "source": [
    "# Adding an early stopping (callback) mechanism\n",
    "from tensorflow.keras.callbacks import EarlyStopping"
   ]
  },
  {
   "cell_type": "code",
   "execution_count": null,
   "id": "5dde6a3c",
   "metadata": {},
   "outputs": [],
   "source": [
    "#This callback will stop the training when there is no improvement in the loss for 25 consecutive epochs.\n",
    "early_stop = EarlyStopping(monitor = 'val_loss' , mode = 'min', verbose = 1, patience = 25)"
   ]
  },
  {
   "cell_type": "code",
   "execution_count": null,
   "id": "e04b50dc",
   "metadata": {},
   "outputs": [],
   "source": [
    "# Compile the model\n",
    "model.compile(loss=\"binary_crossentropy\", optimizer=\"adam\", metrics=[\"accuracy\"])\n",
    "# Train the model\n",
    "model.fit(X_train_scaled, y_train, validation_data = (X_test_scaled,y_test), epochs=200, callbacks = [early_stop])"
   ]
  },
  {
   "cell_type": "code",
   "execution_count": null,
   "id": "0e11bf83",
   "metadata": {},
   "outputs": [],
   "source": [
    "single_house = df.drop('Sold_Price',axis=1).iloc[0]"
   ]
  },
  {
   "cell_type": "code",
   "execution_count": null,
   "id": "46d7a3c0",
   "metadata": {},
   "outputs": [],
   "source": [
    "single_house"
   ]
  },
  {
   "cell_type": "code",
   "execution_count": null,
   "id": "7d9bd5dc",
   "metadata": {},
   "outputs": [],
   "source": [
    "single_house = scaler.transform(single_house)"
   ]
  },
  {
   "cell_type": "code",
   "execution_count": null,
   "id": "b01ffdcb",
   "metadata": {},
   "outputs": [],
   "source": [
    "model.predict(single_house)"
   ]
  },
  {
   "cell_type": "code",
   "execution_count": null,
   "id": "9ad3c5f3",
   "metadata": {},
   "outputs": [],
   "source": [
    "df.head(1)"
   ]
  },
  {
   "cell_type": "code",
   "execution_count": null,
   "id": "56065528",
   "metadata": {},
   "outputs": [],
   "source": []
  },
  {
   "cell_type": "code",
   "execution_count": null,
   "id": "32a5a9a3",
   "metadata": {},
   "outputs": [],
   "source": []
  },
  {
   "cell_type": "code",
   "execution_count": null,
   "id": "1def393a",
   "metadata": {},
   "outputs": [],
   "source": [
    "# # # Compile the model\n",
    "# model.compile(loss=\"binary_crossentropy\", optimizer=\"adam\", metrics=[\"accuracy\"])"
   ]
  },
  {
   "cell_type": "markdown",
   "id": "24572377",
   "metadata": {},
   "source": [
    "# Create loss df"
   ]
  },
  {
   "cell_type": "code",
   "execution_count": null,
   "id": "3955fadf",
   "metadata": {},
   "outputs": [],
   "source": [
    "model_losses_df = pd.DataFrame(model.history.history)\n",
    "model_losses_df.head()"
   ]
  },
  {
   "cell_type": "code",
   "execution_count": null,
   "id": "dd71bce2",
   "metadata": {},
   "outputs": [],
   "source": [
    "# #Pplot the loss vs val_loss to see for any overfit and/or see the rate of change of one to the other\n",
    "\n",
    "model_losses_df[['loss','val_loss']].plot()"
   ]
  },
  {
   "cell_type": "code",
   "execution_count": null,
   "id": "e4c8daed",
   "metadata": {},
   "outputs": [],
   "source": [
    "# Evaluate the model using the test data\n",
    "model_loss, model_accuracy = model.evaluate(X_test_scaled,y_test,verbose=2)\n",
    "print(f\"Loss: {model_loss}, Accuracy: {model_accuracy}\")"
   ]
  },
  {
   "cell_type": "code",
   "execution_count": null,
   "id": "fcf4fa95",
   "metadata": {},
   "outputs": [],
   "source": [
    "# Adding an early stopping (callback) mechanism\n",
    "from tensorflow.keras.callbacks import EarlyStopping"
   ]
  },
  {
   "cell_type": "code",
   "execution_count": null,
   "id": "03701f5c",
   "metadata": {},
   "outputs": [],
   "source": [
    "# #This callback will stop the training when there is no improvement in the loss for 25 consecutive epochs.\n",
    "early_stop = EarlyStopping(monitor = 'val_loss' , mode = 'min', verbose = 1, patience = 25)"
   ]
  },
  {
   "cell_type": "code",
   "execution_count": null,
   "id": "1a82bd40",
   "metadata": {
    "scrolled": true
   },
   "outputs": [],
   "source": [
    "# # Train the model\n",
    "model.fit(X_train_scaled, y_train, validation_data = (X_test_scaled,y_test), epochs=600, callbacks = [early_stop])"
   ]
  },
  {
   "cell_type": "code",
   "execution_count": null,
   "id": "49e2ce64",
   "metadata": {},
   "outputs": [],
   "source": [
    "model_losses_df = pd.DataFrame(model.history.history)\n",
    "model_losses_df.head()"
   ]
  },
  {
   "cell_type": "code",
   "execution_count": null,
   "id": "bcc748d8",
   "metadata": {},
   "outputs": [],
   "source": [
    "# plot the loss vs val_loss to see for any overfit and/or see the rate of change of one to the other \n",
    "# following the early stopping mechanism\n",
    "\n",
    "model_losses_df[['loss','val_loss']].plot()"
   ]
  },
  {
   "cell_type": "code",
   "execution_count": null,
   "id": "8ff8847a",
   "metadata": {},
   "outputs": [],
   "source": [
    "# # Evaluate the model using the test data\n",
    "model_loss, model_accuracy = model.evaluate(X_test_scaled,y_test,verbose=2)\n",
    "print(f\"Loss: {model_loss}, Accuracy: {model_accuracy}\")"
   ]
  },
  {
   "cell_type": "code",
   "execution_count": null,
   "id": "eb7e086c",
   "metadata": {},
   "outputs": [],
   "source": [
    "# Dropout\n",
    "from tensorflow.keras.layers import Dropout"
   ]
  },
  {
   "cell_type": "code",
   "execution_count": null,
   "id": "7bafa2ff",
   "metadata": {},
   "outputs": [],
   "source": [
    "# Define the model - deep neural net, i.e., the number of input features and hidden nodes for each layer.\n",
    "\n",
    "model = Sequential()\n",
    "\n",
    "# First hidden layer\n",
    "model.add(Dense(units = 80,activation = 'relu', input_dim = 43, name = 'layer1'))\n",
    "# Added dropout layer\n",
    "model.add(Dropout(0.5))\n",
    "# Second hidden layer\n",
    "model.add(Dense(units = 60,activation = 'relu', name = 'layer2'))\n",
    "# Added dropout layer\n",
    "model.add(Dropout(0.5))\n",
    "\n",
    "# Third hidden layer\n",
    "model.add(Dense(units = 60,activation = 'relu', name = 'layer3'))\n",
    "# Added dropout layer\n",
    "model.add(Dropout(0.5))\n",
    "\n",
    "# Output layer for binary classification problem using sigmoid activation function\n",
    "model.add(Dense(units = 1,activation = \"linear\"))\n",
    "# Compile the model\n",
    "model.compile(loss=\"binary_crossentropy\", optimizer=\"adam\", metrics=[\"accuracy\"])"
   ]
  },
  {
   "cell_type": "code",
   "execution_count": null,
   "id": "69148621",
   "metadata": {},
   "outputs": [],
   "source": [
    "model_losses_df = pd.DataFrame(model.history.history)\n",
    "model_losses_df.head()"
   ]
  },
  {
   "cell_type": "code",
   "execution_count": null,
   "id": "822ef0c3",
   "metadata": {},
   "outputs": [],
   "source": [
    "model_losses_df[['loss','val_loss']].plot()"
   ]
  },
  {
   "cell_type": "code",
   "execution_count": null,
   "id": "32fe2deb",
   "metadata": {},
   "outputs": [],
   "source": [
    "# # Evaluate the model using the test data\n",
    "model_loss, model_accuracy = nn.evaluate(X_test_scaled,y_test,verbose=0)\n",
    "print(f\"Loss: {model_loss}, Accuracy: {model_accuracy}\")"
   ]
  },
  {
   "cell_type": "code",
   "execution_count": null,
   "id": "76004fed",
   "metadata": {},
   "outputs": [],
   "source": []
  }
 ],
 "metadata": {
  "kernelspec": {
   "display_name": "PythonData",
   "language": "python",
   "name": "pythondata"
  },
  "language_info": {
   "codemirror_mode": {
    "name": "ipython",
    "version": 3
   },
   "file_extension": ".py",
   "mimetype": "text/x-python",
   "name": "python",
   "nbconvert_exporter": "python",
   "pygments_lexer": "ipython3",
   "version": "3.10.9"
  }
 },
 "nbformat": 4,
 "nbformat_minor": 5
}
